{
 "cells": [
  {
   "cell_type": "markdown",
   "id": "ab0ed8fa",
   "metadata": {},
   "source": [
    "##### Basic analysis of fit correlation parameters from the correlation task.\n",
    "\n",
    "Updated for eLife v2. Now run on vrh (full) model, deprecating analyses that don't make sense for that model.\n",
    "\n",
    "Produces analyses associated with Fig 7.\n",
    "\n",
    "Normative evidence weighting and accumulation in correlated environments. Tardiff et al. (2025)."
   ]
  },
  {
   "cell_type": "code",
   "execution_count": 1,
   "id": "97c63b87",
   "metadata": {
    "scrolled": true
   },
   "outputs": [
    {
     "name": "stderr",
     "output_type": "stream",
     "text": [
      "Loading required package: Matrix\n",
      "\n",
      "\n",
      "Attaching package: ‘dplyr’\n",
      "\n",
      "\n",
      "The following objects are masked from ‘package:stats’:\n",
      "\n",
      "    filter, lag\n",
      "\n",
      "\n",
      "The following objects are masked from ‘package:base’:\n",
      "\n",
      "    intersect, setdiff, setequal, union\n",
      "\n",
      "\n",
      "\n",
      "Attaching package: ‘lmerTest’\n",
      "\n",
      "\n",
      "The following object is masked from ‘package:lme4’:\n",
      "\n",
      "    lmer\n",
      "\n",
      "\n",
      "The following object is masked from ‘package:stats’:\n",
      "\n",
      "    step\n",
      "\n",
      "\n"
     ]
    }
   ],
   "source": [
    "#clear memory\n",
    "rm(list=ls())\n",
    "\n",
    "## loading data/libraries ##\n",
    "\n",
    "#load libraries\n",
    "library(lme4)\n",
    "library(dplyr)\n",
    "library(lmerTest)\n",
    "library(blme)\n",
    "\n",
    "se <- function(x) sqrt(var(x) / length(x))\n",
    "\n",
    "switch(Sys.info()[['sysname']],\n",
    "       Windows = PROJECT_DIR <- paste0('C:/Users/',Sys.getenv('USERNAME'),\n",
    "                              '/Dropbox/Goldlab/correlated/'),\n",
    "       Darwin = PROJECT_DIR <- '~/Dropbox/Goldlab/correlated/'\n",
    ")\n",
    "\n",
    "DATA_DIR = paste0(PROJECT_DIR,'/data/')\n",
    "setwd(PROJECT_DIR)\n",
    "\n",
    "\n",
    "DATA_FILE = 'rho_params_best_2024-11-20.csv'"
   ]
  },
  {
   "cell_type": "code",
   "execution_count": 2,
   "id": "edbdf234",
   "metadata": {},
   "outputs": [],
   "source": [
    "# functions we need\n",
    "fisherz <- function(r){\n",
    "    .5*log((1+r)/(1-r))\n",
    "}\n",
    "\n",
    "fishezr <- function(r){\n",
    "    (exp(2*z)-1)/(exp(2*z)+1)\n",
    "}"
   ]
  },
  {
   "cell_type": "code",
   "execution_count": 3,
   "id": "95a88911",
   "metadata": {},
   "outputs": [
    {
     "data": {
      "text/html": [
       "<table class=\"dataframe\">\n",
       "<caption>A data.frame: 6 × 6</caption>\n",
       "<thead>\n",
       "\t<tr><th></th><th scope=col>rho_cond</th><th scope=col>subject</th><th scope=col>param</th><th scope=col>value</th><th scope=col>rho</th><th scope=col>scale_dev</th></tr>\n",
       "\t<tr><th></th><th scope=col>&lt;dbl&gt;</th><th scope=col>&lt;chr&gt;</th><th scope=col>&lt;chr&gt;</th><th scope=col>&lt;dbl&gt;</th><th scope=col>&lt;dbl&gt;</th><th scope=col>&lt;dbl&gt;</th></tr>\n",
       "</thead>\n",
       "<tbody>\n",
       "\t<tr><th scope=row>1</th><td>0.2</td><td>5bd781291fd7c80001bb1fad</td><td>Rn</td><td>-0.1762526</td><td>-0.2</td><td>1.0147336</td></tr>\n",
       "\t<tr><th scope=row>2</th><td>0.2</td><td>5bd781291fd7c80001bb1fad</td><td>Rp</td><td> 0.1605802</td><td> 0.2</td><td>0.9834379</td></tr>\n",
       "\t<tr><th scope=row>3</th><td>0.2</td><td>5d645bf6912c630018e269e3</td><td>Rn</td><td>-0.1073971</td><td>-0.2</td><td>1.0562924</td></tr>\n",
       "\t<tr><th scope=row>4</th><td>0.2</td><td>5d645bf6912c630018e269e3</td><td>Rp</td><td> 0.2635020</td><td> 0.2</td><td>1.0261181</td></tr>\n",
       "\t<tr><th scope=row>5</th><td>0.2</td><td>5e705a1be6c65a62c56a3143</td><td>Rn</td><td>-0.1073450</td><td>-0.2</td><td>1.0563232</td></tr>\n",
       "\t<tr><th scope=row>6</th><td>0.2</td><td>5e705a1be6c65a62c56a3143</td><td>Rp</td><td> 0.2080705</td><td> 0.2</td><td>1.0033571</td></tr>\n",
       "</tbody>\n",
       "</table>\n"
      ],
      "text/latex": [
       "A data.frame: 6 × 6\n",
       "\\begin{tabular}{r|llllll}\n",
       "  & rho\\_cond & subject & param & value & rho & scale\\_dev\\\\\n",
       "  & <dbl> & <chr> & <chr> & <dbl> & <dbl> & <dbl>\\\\\n",
       "\\hline\n",
       "\t1 & 0.2 & 5bd781291fd7c80001bb1fad & Rn & -0.1762526 & -0.2 & 1.0147336\\\\\n",
       "\t2 & 0.2 & 5bd781291fd7c80001bb1fad & Rp &  0.1605802 &  0.2 & 0.9834379\\\\\n",
       "\t3 & 0.2 & 5d645bf6912c630018e269e3 & Rn & -0.1073971 & -0.2 & 1.0562924\\\\\n",
       "\t4 & 0.2 & 5d645bf6912c630018e269e3 & Rp &  0.2635020 &  0.2 & 1.0261181\\\\\n",
       "\t5 & 0.2 & 5e705a1be6c65a62c56a3143 & Rn & -0.1073450 & -0.2 & 1.0563232\\\\\n",
       "\t6 & 0.2 & 5e705a1be6c65a62c56a3143 & Rp &  0.2080705 &  0.2 & 1.0033571\\\\\n",
       "\\end{tabular}\n"
      ],
      "text/markdown": [
       "\n",
       "A data.frame: 6 × 6\n",
       "\n",
       "| <!--/--> | rho_cond &lt;dbl&gt; | subject &lt;chr&gt; | param &lt;chr&gt; | value &lt;dbl&gt; | rho &lt;dbl&gt; | scale_dev &lt;dbl&gt; |\n",
       "|---|---|---|---|---|---|---|\n",
       "| 1 | 0.2 | 5bd781291fd7c80001bb1fad | Rn | -0.1762526 | -0.2 | 1.0147336 |\n",
       "| 2 | 0.2 | 5bd781291fd7c80001bb1fad | Rp |  0.1605802 |  0.2 | 0.9834379 |\n",
       "| 3 | 0.2 | 5d645bf6912c630018e269e3 | Rn | -0.1073971 | -0.2 | 1.0562924 |\n",
       "| 4 | 0.2 | 5d645bf6912c630018e269e3 | Rp |  0.2635020 |  0.2 | 1.0261181 |\n",
       "| 5 | 0.2 | 5e705a1be6c65a62c56a3143 | Rn | -0.1073450 | -0.2 | 1.0563232 |\n",
       "| 6 | 0.2 | 5e705a1be6c65a62c56a3143 | Rp |  0.2080705 |  0.2 | 1.0033571 |\n",
       "\n"
      ],
      "text/plain": [
       "  rho_cond subject                  param value      rho  scale_dev\n",
       "1 0.2      5bd781291fd7c80001bb1fad Rn    -0.1762526 -0.2 1.0147336\n",
       "2 0.2      5bd781291fd7c80001bb1fad Rp     0.1605802  0.2 0.9834379\n",
       "3 0.2      5d645bf6912c630018e269e3 Rn    -0.1073971 -0.2 1.0562924\n",
       "4 0.2      5d645bf6912c630018e269e3 Rp     0.2635020  0.2 1.0261181\n",
       "5 0.2      5e705a1be6c65a62c56a3143 Rn    -0.1073450 -0.2 1.0563232\n",
       "6 0.2      5e705a1be6c65a62c56a3143 Rp     0.2080705  0.2 1.0033571"
      ]
     },
     "metadata": {},
     "output_type": "display_data"
    }
   ],
   "source": [
    "rho_df <- read.table(paste0(DATA_DIR,DATA_FILE),sep=',', header=TRUE, \n",
    "                    stringsAsFactors=FALSE,na.strings = 'NaN')\n",
    "\n",
    "if (any(is.na(rho_df))) {\n",
    "    stop('Misisng data detected!')\n",
    "}\n",
    "\n",
    "head(rho_df)"
   ]
  },
  {
   "cell_type": "code",
   "execution_count": 4,
   "id": "080763ed",
   "metadata": {},
   "outputs": [],
   "source": [
    "# convert correlations to fisher-z scale\n",
    "rho_df$rhoz <- fisherz(rho_df$rho)\n",
    "rho_df$valuez <- fisherz(rho_df$value)\n",
    "\n",
    "rho_df$devz <- rho_df$valuez-rho_df$rhoz"
   ]
  },
  {
   "cell_type": "markdown",
   "id": "0969af83",
   "metadata": {},
   "source": [
    "## What is the slope of objective z(rho) ~ subjective z(rho)"
   ]
  },
  {
   "cell_type": "code",
   "execution_count": 5,
   "id": "270ff0fc",
   "metadata": {},
   "outputs": [],
   "source": [
    "#test slope\n",
    "rho.lm.0 <- lmer(valuez~rhoz + (1|subject), \n",
    "                 data=rho_df, \n",
    "                 control=lmerControl(optimizer=\"bobyqa\",optCtrl=list(maxfun=2e5)))"
   ]
  },
  {
   "cell_type": "code",
   "execution_count": 6,
   "id": "a3c07efa",
   "metadata": {},
   "outputs": [
    {
     "data": {
      "text/plain": [
       "Linear mixed model fit by REML. t-tests use Satterthwaite's method [\n",
       "lmerModLmerTest]\n",
       "Formula: valuez ~ rhoz + (1 | subject)\n",
       "   Data: rho_df\n",
       "Control: lmerControl(optimizer = \"bobyqa\", optCtrl = list(maxfun = 2e+05))\n",
       "\n",
       "REML criterion at convergence: -146.9\n",
       "\n",
       "Scaled residuals: \n",
       "    Min      1Q  Median      3Q     Max \n",
       "-2.5556 -0.4029 -0.0162  0.4632  4.7508 \n",
       "\n",
       "Random effects:\n",
       " Groups   Name        Variance Std.Dev.\n",
       " subject  (Intercept) 0.006512 0.08069 \n",
       " Residual             0.020801 0.14423 \n",
       "Number of obs: 200, groups:  subject, 100\n",
       "\n",
       "Fixed effects:\n",
       "            Estimate Std. Error       df t value Pr(>|t|)    \n",
       "(Intercept) -0.04869    0.01300 99.00000  -3.744 0.000304 ***\n",
       "rhoz         0.70759    0.01477 99.00000  47.919  < 2e-16 ***\n",
       "---\n",
       "Signif. codes:  0 ‘***’ 0.001 ‘**’ 0.01 ‘*’ 0.05 ‘.’ 0.1 ‘ ’ 1\n",
       "\n",
       "Correlation of Fixed Effects:\n",
       "     (Intr)\n",
       "rhoz 0.000 "
      ]
     },
     "metadata": {},
     "output_type": "display_data"
    }
   ],
   "source": [
    "#subjects significantly underestimate correlation\n",
    "summary(rho.lm.0)"
   ]
  },
  {
   "cell_type": "markdown",
   "id": "d0c7bdf1",
   "metadata": {},
   "source": [
    "## test deviation of objective rho from subjective rho\n",
    "Is subjective z(rho) - objective z(rho) significantly different from zero?\n",
    "\n",
    "Since positive and negative correlation differences move in opposite directions, we flip the sign of the negative correlation differences."
   ]
  },
  {
   "cell_type": "code",
   "execution_count": 7,
   "id": "2e755c72",
   "metadata": {},
   "outputs": [],
   "source": [
    "rho_df$devz_ab <- rho_df$devz\n",
    "rho_df$devz_ab[rho_df$rho<0] <- -rho_df$devz_ab[rho_df$rho<0]"
   ]
  },
  {
   "cell_type": "code",
   "execution_count": 8,
   "id": "060bbebc",
   "metadata": {},
   "outputs": [
    {
     "data": {
      "text/html": [
       "<table class=\"dataframe\">\n",
       "<caption>A matrix: 8 × 7 of type dbl</caption>\n",
       "<tbody>\n",
       "\t<tr><th scope=row>-0.8</th><td> 1</td><td> 0</td><td> 0</td><td> 0</td><td> 0</td><td> 0</td><td> 0</td></tr>\n",
       "\t<tr><th scope=row>-0.6</th><td> 0</td><td> 1</td><td> 0</td><td> 0</td><td> 0</td><td> 0</td><td> 0</td></tr>\n",
       "\t<tr><th scope=row>-0.4</th><td> 0</td><td> 0</td><td> 1</td><td> 0</td><td> 0</td><td> 0</td><td> 0</td></tr>\n",
       "\t<tr><th scope=row>-0.2</th><td> 0</td><td> 0</td><td> 0</td><td> 1</td><td> 0</td><td> 0</td><td> 0</td></tr>\n",
       "\t<tr><th scope=row>0.2</th><td> 0</td><td> 0</td><td> 0</td><td> 0</td><td> 1</td><td> 0</td><td> 0</td></tr>\n",
       "\t<tr><th scope=row>0.4</th><td> 0</td><td> 0</td><td> 0</td><td> 0</td><td> 0</td><td> 1</td><td> 0</td></tr>\n",
       "\t<tr><th scope=row>0.6</th><td> 0</td><td> 0</td><td> 0</td><td> 0</td><td> 0</td><td> 0</td><td> 1</td></tr>\n",
       "\t<tr><th scope=row>0.8</th><td>-1</td><td>-1</td><td>-1</td><td>-1</td><td>-1</td><td>-1</td><td>-1</td></tr>\n",
       "</tbody>\n",
       "</table>\n"
      ],
      "text/latex": [
       "A matrix: 8 × 7 of type dbl\n",
       "\\begin{tabular}{r|lllllll}\n",
       "\t-0.8 &  1 &  0 &  0 &  0 &  0 &  0 &  0\\\\\n",
       "\t-0.6 &  0 &  1 &  0 &  0 &  0 &  0 &  0\\\\\n",
       "\t-0.4 &  0 &  0 &  1 &  0 &  0 &  0 &  0\\\\\n",
       "\t-0.2 &  0 &  0 &  0 &  1 &  0 &  0 &  0\\\\\n",
       "\t0.2 &  0 &  0 &  0 &  0 &  1 &  0 &  0\\\\\n",
       "\t0.4 &  0 &  0 &  0 &  0 &  0 &  1 &  0\\\\\n",
       "\t0.6 &  0 &  0 &  0 &  0 &  0 &  0 &  1\\\\\n",
       "\t0.8 & -1 & -1 & -1 & -1 & -1 & -1 & -1\\\\\n",
       "\\end{tabular}\n"
      ],
      "text/markdown": [
       "\n",
       "A matrix: 8 × 7 of type dbl\n",
       "\n",
       "| -0.8 |  1 |  0 |  0 |  0 |  0 |  0 |  0 |\n",
       "| -0.6 |  0 |  1 |  0 |  0 |  0 |  0 |  0 |\n",
       "| -0.4 |  0 |  0 |  1 |  0 |  0 |  0 |  0 |\n",
       "| -0.2 |  0 |  0 |  0 |  1 |  0 |  0 |  0 |\n",
       "| 0.2 |  0 |  0 |  0 |  0 |  1 |  0 |  0 |\n",
       "| 0.4 |  0 |  0 |  0 |  0 |  0 |  1 |  0 |\n",
       "| 0.6 |  0 |  0 |  0 |  0 |  0 |  0 |  1 |\n",
       "| 0.8 | -1 | -1 | -1 | -1 | -1 | -1 | -1 |\n",
       "\n"
      ],
      "text/plain": [
       "     [,1] [,2] [,3] [,4] [,5] [,6] [,7]\n",
       "-0.8  1    0    0    0    0    0    0  \n",
       "-0.6  0    1    0    0    0    0    0  \n",
       "-0.4  0    0    1    0    0    0    0  \n",
       "-0.2  0    0    0    1    0    0    0  \n",
       "0.2   0    0    0    0    1    0    0  \n",
       "0.4   0    0    0    0    0    1    0  \n",
       "0.6   0    0    0    0    0    0    1  \n",
       "0.8  -1   -1   -1   -1   -1   -1   -1  "
      ]
     },
     "metadata": {},
     "output_type": "display_data"
    },
    {
     "data": {
      "text/html": [
       "<table class=\"dataframe\">\n",
       "<caption>A matrix: 2 × 1 of type dbl</caption>\n",
       "<tbody>\n",
       "\t<tr><th scope=row>Rn</th><td> 1</td></tr>\n",
       "\t<tr><th scope=row>Rp</th><td>-1</td></tr>\n",
       "</tbody>\n",
       "</table>\n"
      ],
      "text/latex": [
       "A matrix: 2 × 1 of type dbl\n",
       "\\begin{tabular}{r|l}\n",
       "\tRn &  1\\\\\n",
       "\tRp & -1\\\\\n",
       "\\end{tabular}\n"
      ],
      "text/markdown": [
       "\n",
       "A matrix: 2 × 1 of type dbl\n",
       "\n",
       "| Rn |  1 |\n",
       "| Rp | -1 |\n",
       "\n"
      ],
      "text/plain": [
       "   [,1]\n",
       "Rn  1  \n",
       "Rp -1  "
      ]
     },
     "metadata": {},
     "output_type": "display_data"
    },
    {
     "data": {
      "text/html": [
       "<table class=\"dataframe\">\n",
       "<caption>A matrix: 2 × 1 of type dbl</caption>\n",
       "<thead>\n",
       "\t<tr><th></th><th scope=col>2</th></tr>\n",
       "</thead>\n",
       "<tbody>\n",
       "\t<tr><th scope=row>Rn</th><td>-0.5</td></tr>\n",
       "\t<tr><th scope=row>Rp</th><td> 0.5</td></tr>\n",
       "</tbody>\n",
       "</table>\n"
      ],
      "text/latex": [
       "A matrix: 2 × 1 of type dbl\n",
       "\\begin{tabular}{r|l}\n",
       "  & 2\\\\\n",
       "\\hline\n",
       "\tRn & -0.5\\\\\n",
       "\tRp &  0.5\\\\\n",
       "\\end{tabular}\n"
      ],
      "text/markdown": [
       "\n",
       "A matrix: 2 × 1 of type dbl\n",
       "\n",
       "| <!--/--> | 2 |\n",
       "|---|---|\n",
       "| Rn | -0.5 |\n",
       "| Rp |  0.5 |\n",
       "\n"
      ],
      "text/plain": [
       "   2   \n",
       "Rn -0.5\n",
       "Rp  0.5"
      ]
     },
     "metadata": {},
     "output_type": "display_data"
    }
   ],
   "source": [
    "rho_df$rho.fs <- as.factor(rho_df$rho)\n",
    "contrasts(rho_df$rho.fs) <- contr.sum(8)\n",
    "contrasts(rho_df$rho.fs)\n",
    "\n",
    "rho_df$param.fs <- as.factor(rho_df$param)\n",
    "contrasts(rho_df$param.fs) <- contr.sum(2)\n",
    "contrasts(rho_df$param.fs)\n",
    "\n",
    "my_simple<-contr.treatment(2)-matrix(rep(1/2, 2), ncol=1)\n",
    "rho_df$param.f <- as.factor(rho_df$param)\n",
    "contrasts(rho_df$param.f) <- my_simple\n",
    "contrasts(rho_df$param.f)\n",
    "#rho_df[c('rho','rho.fs')]"
   ]
  },
  {
   "cell_type": "code",
   "execution_count": 9,
   "id": "ceb6491b",
   "metadata": {},
   "outputs": [
    {
     "name": "stderr",
     "output_type": "stream",
     "text": [
      "boundary (singular) fit: see help('isSingular')\n",
      "\n"
     ]
    }
   ],
   "source": [
    "#NOT separated by pos/neg corr\n",
    "rhof.lm.0 <- lmer(devz_ab~1 + (1|subject), \n",
    "                 data=rho_df, \n",
    "                 control=lmerControl(optimizer=\"bobyqa\",optCtrl=list(maxfun=2e5)))"
   ]
  },
  {
   "cell_type": "code",
   "execution_count": 10,
   "id": "cfb06c7a",
   "metadata": {},
   "outputs": [
    {
     "data": {
      "text/plain": [
       "Linear mixed model fit by REML. t-tests use Satterthwaite's method [\n",
       "lmerModLmerTest]\n",
       "Formula: devz_ab ~ 1 + (1 | subject)\n",
       "   Data: rho_df\n",
       "Control: lmerControl(optimizer = \"bobyqa\", optCtrl = list(maxfun = 2e+05))\n",
       "\n",
       "REML criterion at convergence: -84\n",
       "\n",
       "Scaled residuals: \n",
       "    Min      1Q  Median      3Q     Max \n",
       "-3.5212 -0.3777  0.1558  0.5628  4.2493 \n",
       "\n",
       "Random effects:\n",
       " Groups   Name        Variance Std.Dev.\n",
       " subject  (Intercept) 0.00000  0.0000  \n",
       " Residual             0.03739  0.1934  \n",
       "Number of obs: 200, groups:  subject, 100\n",
       "\n",
       "Fixed effects:\n",
       "             Estimate Std. Error        df t value Pr(>|t|)    \n",
       "(Intercept)  -0.18165    0.01367 199.00000  -13.29   <2e-16 ***\n",
       "---\n",
       "Signif. codes:  0 ‘***’ 0.001 ‘**’ 0.01 ‘*’ 0.05 ‘.’ 0.1 ‘ ’ 1\n",
       "optimizer (bobyqa) convergence code: 0 (OK)\n",
       "boundary (singular) fit: see help('isSingular')\n"
      ]
     },
     "metadata": {},
     "output_type": "display_data"
    }
   ],
   "source": [
    "summary(rhof.lm.0)"
   ]
  },
  {
   "cell_type": "markdown",
   "id": "954b2818",
   "metadata": {},
   "source": [
    "### gut checks because of singularity\n",
    "Because the intercept random effect variance was zero (boundary issue), we verify the results in two ways.\n",
    "\n",
    "1) placeing a weakly informative prior on the random effects\n",
    "2) repeating with multiple optimizers\n",
    "\n",
    "See: https://bbolker.github.io/mixedmodels-misc/glmmFAQ.html#singular-models-random-effect-variances-estimated-as-zero-or-correlations-estimated-as---1 and the help page for lme4 isSingular()."
   ]
  },
  {
   "cell_type": "code",
   "execution_count": 11,
   "id": "8a41b0c6",
   "metadata": {},
   "outputs": [],
   "source": [
    "#do we gain any insight into singularity by using a prior on covariance?\n",
    "rhof.lm.b <- blmer(devz_ab~1 + (1|subject), \n",
    "                 data=rho_df, \n",
    "                 control=lmerControl(optimizer=\"bobyqa\",optCtrl=list(maxfun=2e5)))"
   ]
  },
  {
   "cell_type": "code",
   "execution_count": 12,
   "id": "4460c176",
   "metadata": {},
   "outputs": [
    {
     "data": {
      "text/plain": [
       "Cov prior  : subject ~ wishart(df = 3.5, scale = Inf, posterior.scale = cov, common.scale = TRUE)\n",
       "Prior dev  : 3.6689\n",
       "\n",
       "Linear mixed model fit by REML ['blmerMod']\n",
       "Formula: devz_ab ~ 1 + (1 | subject)\n",
       "   Data: rho_df\n",
       "Control: lmerControl(optimizer = \"bobyqa\", optCtrl = list(maxfun = 2e+05))\n",
       "\n",
       "REML criterion at convergence: -83\n",
       "\n",
       "Scaled residuals: \n",
       "    Min      1Q  Median      3Q     Max \n",
       "-3.4090 -0.3927  0.1454  0.5459  4.1451 \n",
       "\n",
       "Random effects:\n",
       " Groups   Name        Variance Std.Dev.\n",
       " subject  (Intercept) 0.003007 0.05483 \n",
       " Residual             0.034702 0.18629 \n",
       "Number of obs: 200, groups:  subject, 100\n",
       "\n",
       "Fixed effects:\n",
       "            Estimate Std. Error t value\n",
       "(Intercept) -0.18165    0.01427  -12.73"
      ]
     },
     "metadata": {},
     "output_type": "display_data"
    }
   ],
   "source": [
    "summary(rhof.lm.b)"
   ]
  },
  {
   "cell_type": "code",
   "execution_count": 21,
   "id": "2e376e55",
   "metadata": {},
   "outputs": [
    {
     "name": "stdout",
     "output_type": "stream",
     "text": [
      "bobyqa : "
     ]
    },
    {
     "name": "stderr",
     "output_type": "stream",
     "text": [
      "boundary (singular) fit: see help('isSingular')\n",
      "\n"
     ]
    },
    {
     "name": "stdout",
     "output_type": "stream",
     "text": [
      "[OK]\n",
      "Nelder_Mead : "
     ]
    },
    {
     "name": "stderr",
     "output_type": "stream",
     "text": [
      "boundary (singular) fit: see help('isSingular')\n",
      "\n"
     ]
    },
    {
     "name": "stdout",
     "output_type": "stream",
     "text": [
      "[OK]\n",
      "nlminbwrap : "
     ]
    },
    {
     "name": "stderr",
     "output_type": "stream",
     "text": [
      "boundary (singular) fit: see help('isSingular')\n",
      "\n"
     ]
    },
    {
     "name": "stdout",
     "output_type": "stream",
     "text": [
      "[OK]\n",
      "nloptwrap.NLOPT_LN_NELDERMEAD : "
     ]
    },
    {
     "name": "stderr",
     "output_type": "stream",
     "text": [
      "boundary (singular) fit: see help('isSingular')\n",
      "\n"
     ]
    },
    {
     "name": "stdout",
     "output_type": "stream",
     "text": [
      "[OK]\n",
      "nloptwrap.NLOPT_LN_BOBYQA : "
     ]
    },
    {
     "name": "stderr",
     "output_type": "stream",
     "text": [
      "boundary (singular) fit: see help('isSingular')\n",
      "\n"
     ]
    },
    {
     "name": "stdout",
     "output_type": "stream",
     "text": [
      "[OK]\n"
     ]
    },
    {
     "data": {
      "text/plain": [
       "$which.OK\n",
       "                       bobyqa                   Nelder_Mead \n",
       "                         TRUE                          TRUE \n",
       "                   nlminbwrap nloptwrap.NLOPT_LN_NELDERMEAD \n",
       "                         TRUE                          TRUE \n",
       "    nloptwrap.NLOPT_LN_BOBYQA \n",
       "                         TRUE \n",
       "\n",
       "$msgs\n",
       "$msgs$bobyqa\n",
       "[1] \"boundary (singular) fit: see help('isSingular')\"\n",
       "\n",
       "$msgs$Nelder_Mead\n",
       "[1] \"boundary (singular) fit: see help('isSingular')\"\n",
       "\n",
       "$msgs$nlminbwrap\n",
       "[1] \"boundary (singular) fit: see help('isSingular')\"\n",
       "\n",
       "$msgs$nloptwrap.NLOPT_LN_NELDERMEAD\n",
       "[1] \"boundary (singular) fit: see help('isSingular')\"\n",
       "\n",
       "$msgs$nloptwrap.NLOPT_LN_BOBYQA\n",
       "[1] \"boundary (singular) fit: see help('isSingular')\"\n",
       "\n",
       "\n",
       "$fixef\n",
       "                              (Intercept)\n",
       "bobyqa                         -0.1816459\n",
       "Nelder_Mead                    -0.1816459\n",
       "nlminbwrap                     -0.1816459\n",
       "nloptwrap.NLOPT_LN_NELDERMEAD  -0.1816459\n",
       "nloptwrap.NLOPT_LN_BOBYQA      -0.1816459\n",
       "\n",
       "$llik\n",
       "                       bobyqa                   Nelder_Mead \n",
       "                     41.98218                      41.98218 \n",
       "                   nlminbwrap nloptwrap.NLOPT_LN_NELDERMEAD \n",
       "                     41.98218                      41.98218 \n",
       "    nloptwrap.NLOPT_LN_BOBYQA \n",
       "                     41.98218 \n",
       "\n",
       "$sdcor\n",
       "                              subject.(Intercept)     sigma\n",
       "bobyqa                                          0 0.1933571\n",
       "Nelder_Mead                                     0 0.1933571\n",
       "nlminbwrap                                      0 0.1933571\n",
       "nloptwrap.NLOPT_LN_NELDERMEAD                   0 0.1933571\n",
       "nloptwrap.NLOPT_LN_BOBYQA                       0 0.1933571\n",
       "\n",
       "$theta\n",
       "                              subject.(Intercept)\n",
       "bobyqa                                          0\n",
       "Nelder_Mead                                     0\n",
       "nlminbwrap                                      0\n",
       "nloptwrap.NLOPT_LN_NELDERMEAD                   0\n",
       "nloptwrap.NLOPT_LN_BOBYQA                       0\n",
       "\n",
       "$times\n",
       "                              user.self sys.self elapsed user.child sys.child\n",
       "bobyqa                            0.016    0.001   0.017          0         0\n",
       "Nelder_Mead                       0.020    0.000   0.023          0         0\n",
       "nlminbwrap                        0.020    0.001   0.024          0         0\n",
       "nloptwrap.NLOPT_LN_NELDERMEAD     0.019    0.001   0.022          0         0\n",
       "nloptwrap.NLOPT_LN_BOBYQA         0.024    0.000   0.028          0         0\n",
       "\n",
       "$feval\n",
       "                       bobyqa                   Nelder_Mead \n",
       "                           26                            12 \n",
       "                   nlminbwrap nloptwrap.NLOPT_LN_NELDERMEAD \n",
       "                           NA                             4 \n",
       "    nloptwrap.NLOPT_LN_BOBYQA \n",
       "                           11 \n",
       "\n",
       "attr(,\"class\")\n",
       "[1] \"summary.allFit\""
      ]
     },
     "metadata": {},
     "output_type": "display_data"
    }
   ],
   "source": [
    "rhof.lm.0.all <- allFit(rhof.lm.0)\n",
    "summary(rhof.lm.0.all)"
   ]
  },
  {
   "cell_type": "markdown",
   "id": "bd4233ae",
   "metadata": {},
   "source": [
    "### finally compute sds for rho deviations"
   ]
  },
  {
   "cell_type": "code",
   "execution_count": 14,
   "id": "921837fb",
   "metadata": {},
   "outputs": [
    {
     "name": "stderr",
     "output_type": "stream",
     "text": [
      "\u001b[1m\u001b[22m`summarise()` has grouped output by 'rho'. You can override using the `.groups`\n",
      "argument.\n"
     ]
    },
    {
     "data": {
      "text/html": [
       "<table class=\"dataframe\">\n",
       "<caption>A grouped_df: 8 × 3</caption>\n",
       "<thead>\n",
       "\t<tr><th scope=col>rho</th><th scope=col>param</th><th scope=col>rho_sd</th></tr>\n",
       "\t<tr><th scope=col>&lt;dbl&gt;</th><th scope=col>&lt;chr&gt;</th><th scope=col>&lt;dbl&gt;</th></tr>\n",
       "</thead>\n",
       "<tbody>\n",
       "\t<tr><td>-0.8</td><td>Rn</td><td>0.09476144</td></tr>\n",
       "\t<tr><td>-0.6</td><td>Rn</td><td>0.09694017</td></tr>\n",
       "\t<tr><td>-0.4</td><td>Rn</td><td>0.09590433</td></tr>\n",
       "\t<tr><td>-0.2</td><td>Rn</td><td>0.08688486</td></tr>\n",
       "\t<tr><td> 0.2</td><td>Rp</td><td>0.11281864</td></tr>\n",
       "\t<tr><td> 0.4</td><td>Rp</td><td>0.16323730</td></tr>\n",
       "\t<tr><td> 0.6</td><td>Rp</td><td>0.26723474</td></tr>\n",
       "\t<tr><td> 0.8</td><td>Rp</td><td>0.24714026</td></tr>\n",
       "</tbody>\n",
       "</table>\n"
      ],
      "text/latex": [
       "A grouped\\_df: 8 × 3\n",
       "\\begin{tabular}{lll}\n",
       " rho & param & rho\\_sd\\\\\n",
       " <dbl> & <chr> & <dbl>\\\\\n",
       "\\hline\n",
       "\t -0.8 & Rn & 0.09476144\\\\\n",
       "\t -0.6 & Rn & 0.09694017\\\\\n",
       "\t -0.4 & Rn & 0.09590433\\\\\n",
       "\t -0.2 & Rn & 0.08688486\\\\\n",
       "\t  0.2 & Rp & 0.11281864\\\\\n",
       "\t  0.4 & Rp & 0.16323730\\\\\n",
       "\t  0.6 & Rp & 0.26723474\\\\\n",
       "\t  0.8 & Rp & 0.24714026\\\\\n",
       "\\end{tabular}\n"
      ],
      "text/markdown": [
       "\n",
       "A grouped_df: 8 × 3\n",
       "\n",
       "| rho &lt;dbl&gt; | param &lt;chr&gt; | rho_sd &lt;dbl&gt; |\n",
       "|---|---|---|\n",
       "| -0.8 | Rn | 0.09476144 |\n",
       "| -0.6 | Rn | 0.09694017 |\n",
       "| -0.4 | Rn | 0.09590433 |\n",
       "| -0.2 | Rn | 0.08688486 |\n",
       "|  0.2 | Rp | 0.11281864 |\n",
       "|  0.4 | Rp | 0.16323730 |\n",
       "|  0.6 | Rp | 0.26723474 |\n",
       "|  0.8 | Rp | 0.24714026 |\n",
       "\n"
      ],
      "text/plain": [
       "  rho  param rho_sd    \n",
       "1 -0.8 Rn    0.09476144\n",
       "2 -0.6 Rn    0.09694017\n",
       "3 -0.4 Rn    0.09590433\n",
       "4 -0.2 Rn    0.08688486\n",
       "5  0.2 Rp    0.11281864\n",
       "6  0.4 Rp    0.16323730\n",
       "7  0.6 Rp    0.26723474\n",
       "8  0.8 Rp    0.24714026"
      ]
     },
     "metadata": {},
     "output_type": "display_data"
    },
    {
     "data": {
      "text/html": [
       "<table class=\"dataframe\">\n",
       "<caption>A tibble: 2 × 2</caption>\n",
       "<thead>\n",
       "\t<tr><th scope=col>param</th><th scope=col>rho_sd_mean</th></tr>\n",
       "\t<tr><th scope=col>&lt;chr&gt;</th><th scope=col>&lt;dbl&gt;</th></tr>\n",
       "</thead>\n",
       "<tbody>\n",
       "\t<tr><td>Rn</td><td>0.0936227</td></tr>\n",
       "\t<tr><td>Rp</td><td>0.1976077</td></tr>\n",
       "</tbody>\n",
       "</table>\n"
      ],
      "text/latex": [
       "A tibble: 2 × 2\n",
       "\\begin{tabular}{ll}\n",
       " param & rho\\_sd\\_mean\\\\\n",
       " <chr> & <dbl>\\\\\n",
       "\\hline\n",
       "\t Rn & 0.0936227\\\\\n",
       "\t Rp & 0.1976077\\\\\n",
       "\\end{tabular}\n"
      ],
      "text/markdown": [
       "\n",
       "A tibble: 2 × 2\n",
       "\n",
       "| param &lt;chr&gt; | rho_sd_mean &lt;dbl&gt; |\n",
       "|---|---|\n",
       "| Rn | 0.0936227 |\n",
       "| Rp | 0.1976077 |\n",
       "\n"
      ],
      "text/plain": [
       "  param rho_sd_mean\n",
       "1 Rn    0.0936227  \n",
       "2 Rp    0.1976077  "
      ]
     },
     "metadata": {},
     "output_type": "display_data"
    }
   ],
   "source": [
    "rho_sd_rho <- summarise(group_by(rho_df,rho,param),rho_sd=sd(valuez))\n",
    "rho_sd_rho\n",
    "\n",
    "summarise(group_by(rho_sd_rho,param),rho_sd_mean=mean(rho_sd))"
   ]
  },
  {
   "cell_type": "code",
   "execution_count": null,
   "id": "0b4ae356",
   "metadata": {},
   "outputs": [],
   "source": []
  }
 ],
 "metadata": {
  "kernelspec": {
   "display_name": "R",
   "language": "R",
   "name": "ir"
  },
  "language_info": {
   "codemirror_mode": "r",
   "file_extension": ".r",
   "mimetype": "text/x-r-source",
   "name": "R",
   "pygments_lexer": "r",
   "version": "4.3.1"
  }
 },
 "nbformat": 4,
 "nbformat_minor": 5
}
