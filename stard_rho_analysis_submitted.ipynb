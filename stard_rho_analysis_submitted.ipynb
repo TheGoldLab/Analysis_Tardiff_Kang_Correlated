{
 "cells": [
  {
   "cell_type": "markdown",
   "id": "ab0ed8fa",
   "metadata": {},
   "source": [
    "##### Basic analysis of fit correlation parameters from the correlation task.\n",
    "\n",
    "\n",
    "Produces analyses associated with Fig 7.\n",
    "\n",
    "Normative evidence weighting and accumulation in correlated environments. Tardiff et al. (2024).\n",
    "\n",
    "Nathan Tardiff 05/28/24"
   ]
  },
  {
   "cell_type": "code",
   "execution_count": 1,
   "id": "97c63b87",
   "metadata": {
    "scrolled": true
   },
   "outputs": [
    {
     "name": "stderr",
     "output_type": "stream",
     "text": [
      "Loading required package: Matrix\n",
      "\n",
      "\n",
      "Attaching package: ‘dplyr’\n",
      "\n",
      "\n",
      "The following objects are masked from ‘package:stats’:\n",
      "\n",
      "    filter, lag\n",
      "\n",
      "\n",
      "The following objects are masked from ‘package:base’:\n",
      "\n",
      "    intersect, setdiff, setequal, union\n",
      "\n",
      "\n",
      "\n",
      "Attaching package: ‘lmerTest’\n",
      "\n",
      "\n",
      "The following object is masked from ‘package:lme4’:\n",
      "\n",
      "    lmer\n",
      "\n",
      "\n",
      "The following object is masked from ‘package:stats’:\n",
      "\n",
      "    step\n",
      "\n",
      "\n"
     ]
    }
   ],
   "source": [
    "#clear memory\n",
    "rm(list=ls())\n",
    "\n",
    "## loading data/libraries ##\n",
    "\n",
    "#load libraries\n",
    "library(lme4)\n",
    "library(dplyr)\n",
    "library(lmerTest)\n",
    "\n",
    "se <- function(x) sqrt(var(x) / length(x))\n",
    "\n",
    "switch(Sys.info()[['sysname']],\n",
    "       Windows = PROJECT_DIR <- paste0('C:/Users/',Sys.getenv('USERNAME'),\n",
    "                              '/Dropbox/Goldlab/correlated/'),\n",
    "       Darwin = PROJECT_DIR <- '~/Dropbox/Goldlab/correlated/'\n",
    ")\n",
    "\n",
    "DATA_DIR = paste0(PROJECT_DIR,'/data/')\n",
    "setwd(PROJECT_DIR)\n",
    "\n",
    "\n",
    "DATA_FILE = 'rho_params_best_2023-12-08.csv'"
   ]
  },
  {
   "cell_type": "code",
   "execution_count": 2,
   "id": "edbdf234",
   "metadata": {},
   "outputs": [],
   "source": [
    "# functions we need\n",
    "fisherz <- function(r){\n",
    "    .5*log((1+r)/(1-r))\n",
    "}\n",
    "\n",
    "fishezr <- function(r){\n",
    "    (exp(2*z)-1)/(exp(2*z)+1)\n",
    "}"
   ]
  },
  {
   "cell_type": "code",
   "execution_count": 3,
   "id": "95a88911",
   "metadata": {},
   "outputs": [
    {
     "data": {
      "text/html": [
       "<table class=\"dataframe\">\n",
       "<caption>A data.frame: 6 × 6</caption>\n",
       "<thead>\n",
       "\t<tr><th></th><th scope=col>rho_cond</th><th scope=col>param</th><th scope=col>subject</th><th scope=col>value</th><th scope=col>rho</th><th scope=col>scale_dev</th></tr>\n",
       "\t<tr><th></th><th scope=col>&lt;dbl&gt;</th><th scope=col>&lt;chr&gt;</th><th scope=col>&lt;chr&gt;</th><th scope=col>&lt;dbl&gt;</th><th scope=col>&lt;dbl&gt;</th><th scope=col>&lt;dbl&gt;</th></tr>\n",
       "</thead>\n",
       "<tbody>\n",
       "\t<tr><th scope=row>1</th><td>0.2</td><td>Rn</td><td>5bd781291fd7c80001bb1fad</td><td>-0.2734775</td><td>-0.2</td><td>0.9529707</td></tr>\n",
       "\t<tr><th scope=row>2</th><td>0.2</td><td>Rn</td><td>5d645bf6912c630018e269e3</td><td>-0.1189760</td><td>-0.2</td><td>1.0494189</td></tr>\n",
       "\t<tr><th scope=row>3</th><td>0.2</td><td>Rn</td><td>5e705a1be6c65a62c56a3143</td><td>-0.1073450</td><td>-0.2</td><td>1.0563232</td></tr>\n",
       "\t<tr><th scope=row>4</th><td>0.2</td><td>Rn</td><td>5ef37588bfe86a0ca12ba515</td><td>-0.1656104</td><td>-0.2</td><td>1.0212673</td></tr>\n",
       "\t<tr><th scope=row>5</th><td>0.2</td><td>Rn</td><td>5f2dae50cee5310bdd43d160</td><td>-0.3064545</td><td>-0.2</td><td>0.9310918</td></tr>\n",
       "\t<tr><th scope=row>6</th><td>0.2</td><td>Rn</td><td>5f2de3a7b874e712ac7bc516</td><td>-0.1751329</td><td>-0.2</td><td>1.0154230</td></tr>\n",
       "</tbody>\n",
       "</table>\n"
      ],
      "text/latex": [
       "A data.frame: 6 × 6\n",
       "\\begin{tabular}{r|llllll}\n",
       "  & rho\\_cond & param & subject & value & rho & scale\\_dev\\\\\n",
       "  & <dbl> & <chr> & <chr> & <dbl> & <dbl> & <dbl>\\\\\n",
       "\\hline\n",
       "\t1 & 0.2 & Rn & 5bd781291fd7c80001bb1fad & -0.2734775 & -0.2 & 0.9529707\\\\\n",
       "\t2 & 0.2 & Rn & 5d645bf6912c630018e269e3 & -0.1189760 & -0.2 & 1.0494189\\\\\n",
       "\t3 & 0.2 & Rn & 5e705a1be6c65a62c56a3143 & -0.1073450 & -0.2 & 1.0563232\\\\\n",
       "\t4 & 0.2 & Rn & 5ef37588bfe86a0ca12ba515 & -0.1656104 & -0.2 & 1.0212673\\\\\n",
       "\t5 & 0.2 & Rn & 5f2dae50cee5310bdd43d160 & -0.3064545 & -0.2 & 0.9310918\\\\\n",
       "\t6 & 0.2 & Rn & 5f2de3a7b874e712ac7bc516 & -0.1751329 & -0.2 & 1.0154230\\\\\n",
       "\\end{tabular}\n"
      ],
      "text/markdown": [
       "\n",
       "A data.frame: 6 × 6\n",
       "\n",
       "| <!--/--> | rho_cond &lt;dbl&gt; | param &lt;chr&gt; | subject &lt;chr&gt; | value &lt;dbl&gt; | rho &lt;dbl&gt; | scale_dev &lt;dbl&gt; |\n",
       "|---|---|---|---|---|---|---|\n",
       "| 1 | 0.2 | Rn | 5bd781291fd7c80001bb1fad | -0.2734775 | -0.2 | 0.9529707 |\n",
       "| 2 | 0.2 | Rn | 5d645bf6912c630018e269e3 | -0.1189760 | -0.2 | 1.0494189 |\n",
       "| 3 | 0.2 | Rn | 5e705a1be6c65a62c56a3143 | -0.1073450 | -0.2 | 1.0563232 |\n",
       "| 4 | 0.2 | Rn | 5ef37588bfe86a0ca12ba515 | -0.1656104 | -0.2 | 1.0212673 |\n",
       "| 5 | 0.2 | Rn | 5f2dae50cee5310bdd43d160 | -0.3064545 | -0.2 | 0.9310918 |\n",
       "| 6 | 0.2 | Rn | 5f2de3a7b874e712ac7bc516 | -0.1751329 | -0.2 | 1.0154230 |\n",
       "\n"
      ],
      "text/plain": [
       "  rho_cond param subject                  value      rho  scale_dev\n",
       "1 0.2      Rn    5bd781291fd7c80001bb1fad -0.2734775 -0.2 0.9529707\n",
       "2 0.2      Rn    5d645bf6912c630018e269e3 -0.1189760 -0.2 1.0494189\n",
       "3 0.2      Rn    5e705a1be6c65a62c56a3143 -0.1073450 -0.2 1.0563232\n",
       "4 0.2      Rn    5ef37588bfe86a0ca12ba515 -0.1656104 -0.2 1.0212673\n",
       "5 0.2      Rn    5f2dae50cee5310bdd43d160 -0.3064545 -0.2 0.9310918\n",
       "6 0.2      Rn    5f2de3a7b874e712ac7bc516 -0.1751329 -0.2 1.0154230"
      ]
     },
     "metadata": {},
     "output_type": "display_data"
    }
   ],
   "source": [
    "rho_df <- read.table(paste0(DATA_DIR,DATA_FILE),sep=',', header=TRUE, \n",
    "                    stringsAsFactors=FALSE,na.strings = 'NaN')\n",
    "\n",
    "if (any(is.na(rho_df))) {\n",
    "    stop('Misisng data detected!')\n",
    "}\n",
    "\n",
    "head(rho_df)"
   ]
  },
  {
   "cell_type": "code",
   "execution_count": 4,
   "id": "080763ed",
   "metadata": {},
   "outputs": [],
   "source": [
    "# convert correlations to fisher-z scale\n",
    "rho_df$rhoz <- fisherz(rho_df$rho)\n",
    "rho_df$valuez <- fisherz(rho_df$value)\n",
    "\n",
    "rho_df$devz <- rho_df$valuez-rho_df$rhoz"
   ]
  },
  {
   "cell_type": "markdown",
   "id": "0969af83",
   "metadata": {},
   "source": [
    "## What is the slope of objective z(rho) ~ subjective z(rho)"
   ]
  },
  {
   "cell_type": "code",
   "execution_count": 5,
   "id": "270ff0fc",
   "metadata": {},
   "outputs": [],
   "source": [
    "#test slope\n",
    "rho.lm.0 <- lmer(valuez~rhoz + (1|subject), \n",
    "                 data=rho_df, \n",
    "                 control=lmerControl(optimizer=\"bobyqa\",optCtrl=list(maxfun=2e5)))"
   ]
  },
  {
   "cell_type": "code",
   "execution_count": 6,
   "id": "a3c07efa",
   "metadata": {},
   "outputs": [
    {
     "data": {
      "text/plain": [
       "Linear mixed model fit by REML. t-tests use Satterthwaite's method [\n",
       "lmerModLmerTest]\n",
       "Formula: valuez ~ rhoz + (1 | subject)\n",
       "   Data: rho_df\n",
       "Control: lmerControl(optimizer = \"bobyqa\", optCtrl = list(maxfun = 2e+05))\n",
       "\n",
       "REML criterion at convergence: -100.2\n",
       "\n",
       "Scaled residuals: \n",
       "    Min      1Q  Median      3Q     Max \n",
       "-2.5565 -0.4864  0.0487  0.4701  3.6620 \n",
       "\n",
       "Random effects:\n",
       " Groups   Name        Variance Std.Dev.\n",
       " subject  (Intercept) 0.005547 0.07448 \n",
       " Residual             0.028495 0.16881 \n",
       "Number of obs: 200, groups:  subject, 100\n",
       "\n",
       "Fixed effects:\n",
       "            Estimate Std. Error       df t value Pr(>|t|)    \n",
       "(Intercept) -0.03656    0.01407 99.00000  -2.599   0.0108 *  \n",
       "rhoz         0.70744    0.01728 99.00000  40.933   <2e-16 ***\n",
       "---\n",
       "Signif. codes:  0 ‘***’ 0.001 ‘**’ 0.01 ‘*’ 0.05 ‘.’ 0.1 ‘ ’ 1\n",
       "\n",
       "Correlation of Fixed Effects:\n",
       "     (Intr)\n",
       "rhoz 0.000 "
      ]
     },
     "metadata": {},
     "output_type": "display_data"
    }
   ],
   "source": [
    "#subjects significantly underestimate correlation\n",
    "summary(rho.lm.0)"
   ]
  },
  {
   "cell_type": "markdown",
   "id": "d0c7bdf1",
   "metadata": {},
   "source": [
    "## test deviation of objective rho from subjective rho\n",
    "Is subjective z(rho) - objective z(rho) significantly different from zero?\n",
    "\n",
    "Since positive and negative correlation differences move in opposite directions, we flip the sign of the negative correlation differences."
   ]
  },
  {
   "cell_type": "code",
   "execution_count": 7,
   "id": "2e755c72",
   "metadata": {},
   "outputs": [],
   "source": [
    "rho_df$devz_ab <- rho_df$devz\n",
    "rho_df$devz_ab[rho_df$rho<0] <- -rho_df$devz_ab[rho_df$rho<0]"
   ]
  },
  {
   "cell_type": "code",
   "execution_count": 8,
   "id": "060bbebc",
   "metadata": {
    "scrolled": false
   },
   "outputs": [
    {
     "data": {
      "text/html": [
       "<table class=\"dataframe\">\n",
       "<caption>A matrix: 8 × 7 of type dbl</caption>\n",
       "<tbody>\n",
       "\t<tr><th scope=row>-0.8</th><td> 1</td><td> 0</td><td> 0</td><td> 0</td><td> 0</td><td> 0</td><td> 0</td></tr>\n",
       "\t<tr><th scope=row>-0.6</th><td> 0</td><td> 1</td><td> 0</td><td> 0</td><td> 0</td><td> 0</td><td> 0</td></tr>\n",
       "\t<tr><th scope=row>-0.4</th><td> 0</td><td> 0</td><td> 1</td><td> 0</td><td> 0</td><td> 0</td><td> 0</td></tr>\n",
       "\t<tr><th scope=row>-0.2</th><td> 0</td><td> 0</td><td> 0</td><td> 1</td><td> 0</td><td> 0</td><td> 0</td></tr>\n",
       "\t<tr><th scope=row>0.2</th><td> 0</td><td> 0</td><td> 0</td><td> 0</td><td> 1</td><td> 0</td><td> 0</td></tr>\n",
       "\t<tr><th scope=row>0.4</th><td> 0</td><td> 0</td><td> 0</td><td> 0</td><td> 0</td><td> 1</td><td> 0</td></tr>\n",
       "\t<tr><th scope=row>0.6</th><td> 0</td><td> 0</td><td> 0</td><td> 0</td><td> 0</td><td> 0</td><td> 1</td></tr>\n",
       "\t<tr><th scope=row>0.8</th><td>-1</td><td>-1</td><td>-1</td><td>-1</td><td>-1</td><td>-1</td><td>-1</td></tr>\n",
       "</tbody>\n",
       "</table>\n"
      ],
      "text/latex": [
       "A matrix: 8 × 7 of type dbl\n",
       "\\begin{tabular}{r|lllllll}\n",
       "\t-0.8 &  1 &  0 &  0 &  0 &  0 &  0 &  0\\\\\n",
       "\t-0.6 &  0 &  1 &  0 &  0 &  0 &  0 &  0\\\\\n",
       "\t-0.4 &  0 &  0 &  1 &  0 &  0 &  0 &  0\\\\\n",
       "\t-0.2 &  0 &  0 &  0 &  1 &  0 &  0 &  0\\\\\n",
       "\t0.2 &  0 &  0 &  0 &  0 &  1 &  0 &  0\\\\\n",
       "\t0.4 &  0 &  0 &  0 &  0 &  0 &  1 &  0\\\\\n",
       "\t0.6 &  0 &  0 &  0 &  0 &  0 &  0 &  1\\\\\n",
       "\t0.8 & -1 & -1 & -1 & -1 & -1 & -1 & -1\\\\\n",
       "\\end{tabular}\n"
      ],
      "text/markdown": [
       "\n",
       "A matrix: 8 × 7 of type dbl\n",
       "\n",
       "| -0.8 |  1 |  0 |  0 |  0 |  0 |  0 |  0 |\n",
       "| -0.6 |  0 |  1 |  0 |  0 |  0 |  0 |  0 |\n",
       "| -0.4 |  0 |  0 |  1 |  0 |  0 |  0 |  0 |\n",
       "| -0.2 |  0 |  0 |  0 |  1 |  0 |  0 |  0 |\n",
       "| 0.2 |  0 |  0 |  0 |  0 |  1 |  0 |  0 |\n",
       "| 0.4 |  0 |  0 |  0 |  0 |  0 |  1 |  0 |\n",
       "| 0.6 |  0 |  0 |  0 |  0 |  0 |  0 |  1 |\n",
       "| 0.8 | -1 | -1 | -1 | -1 | -1 | -1 | -1 |\n",
       "\n"
      ],
      "text/plain": [
       "     [,1] [,2] [,3] [,4] [,5] [,6] [,7]\n",
       "-0.8  1    0    0    0    0    0    0  \n",
       "-0.6  0    1    0    0    0    0    0  \n",
       "-0.4  0    0    1    0    0    0    0  \n",
       "-0.2  0    0    0    1    0    0    0  \n",
       "0.2   0    0    0    0    1    0    0  \n",
       "0.4   0    0    0    0    0    1    0  \n",
       "0.6   0    0    0    0    0    0    1  \n",
       "0.8  -1   -1   -1   -1   -1   -1   -1  "
      ]
     },
     "metadata": {},
     "output_type": "display_data"
    },
    {
     "data": {
      "text/html": [
       "<table class=\"dataframe\">\n",
       "<caption>A matrix: 2 × 1 of type dbl</caption>\n",
       "<tbody>\n",
       "\t<tr><th scope=row>Rn</th><td> 1</td></tr>\n",
       "\t<tr><th scope=row>Rp</th><td>-1</td></tr>\n",
       "</tbody>\n",
       "</table>\n"
      ],
      "text/latex": [
       "A matrix: 2 × 1 of type dbl\n",
       "\\begin{tabular}{r|l}\n",
       "\tRn &  1\\\\\n",
       "\tRp & -1\\\\\n",
       "\\end{tabular}\n"
      ],
      "text/markdown": [
       "\n",
       "A matrix: 2 × 1 of type dbl\n",
       "\n",
       "| Rn |  1 |\n",
       "| Rp | -1 |\n",
       "\n"
      ],
      "text/plain": [
       "   [,1]\n",
       "Rn  1  \n",
       "Rp -1  "
      ]
     },
     "metadata": {},
     "output_type": "display_data"
    },
    {
     "data": {
      "text/html": [
       "<table class=\"dataframe\">\n",
       "<caption>A matrix: 2 × 1 of type dbl</caption>\n",
       "<thead>\n",
       "\t<tr><th></th><th scope=col>2</th></tr>\n",
       "</thead>\n",
       "<tbody>\n",
       "\t<tr><th scope=row>Rn</th><td>-0.5</td></tr>\n",
       "\t<tr><th scope=row>Rp</th><td> 0.5</td></tr>\n",
       "</tbody>\n",
       "</table>\n"
      ],
      "text/latex": [
       "A matrix: 2 × 1 of type dbl\n",
       "\\begin{tabular}{r|l}\n",
       "  & 2\\\\\n",
       "\\hline\n",
       "\tRn & -0.5\\\\\n",
       "\tRp &  0.5\\\\\n",
       "\\end{tabular}\n"
      ],
      "text/markdown": [
       "\n",
       "A matrix: 2 × 1 of type dbl\n",
       "\n",
       "| <!--/--> | 2 |\n",
       "|---|---|\n",
       "| Rn | -0.5 |\n",
       "| Rp |  0.5 |\n",
       "\n"
      ],
      "text/plain": [
       "   2   \n",
       "Rn -0.5\n",
       "Rp  0.5"
      ]
     },
     "metadata": {},
     "output_type": "display_data"
    }
   ],
   "source": [
    "rho_df$rho.fs <- as.factor(rho_df$rho)\n",
    "contrasts(rho_df$rho.fs) <- contr.sum(8)\n",
    "contrasts(rho_df$rho.fs)\n",
    "\n",
    "rho_df$param.fs <- as.factor(rho_df$param)\n",
    "contrasts(rho_df$param.fs) <- contr.sum(2)\n",
    "contrasts(rho_df$param.fs)\n",
    "\n",
    "my_simple<-contr.treatment(2)-matrix(rep(1/2, 2), ncol=1)\n",
    "rho_df$param.f <- as.factor(rho_df$param)\n",
    "contrasts(rho_df$param.f) <- my_simple\n",
    "contrasts(rho_df$param.f)\n",
    "#rho_df[c('rho','rho.fs')]"
   ]
  },
  {
   "cell_type": "code",
   "execution_count": 9,
   "id": "ceb6491b",
   "metadata": {},
   "outputs": [],
   "source": [
    "#NOT separated by pos/neg corr\n",
    "rhof.lm.0 <- lmer(devz_ab~1 + (1|subject), \n",
    "                 data=rho_df, \n",
    "                 control=lmerControl(optimizer=\"bobyqa\",optCtrl=list(maxfun=2e5)))"
   ]
  },
  {
   "cell_type": "code",
   "execution_count": 10,
   "id": "cfb06c7a",
   "metadata": {},
   "outputs": [
    {
     "data": {
      "text/plain": [
       "Linear mixed model fit by REML. t-tests use Satterthwaite's method [\n",
       "lmerModLmerTest]\n",
       "Formula: devz_ab ~ 1 + (1 | subject)\n",
       "   Data: rho_df\n",
       "Control: lmerControl(optimizer = \"bobyqa\", optCtrl = list(maxfun = 2e+05))\n",
       "\n",
       "REML criterion at convergence: -55.6\n",
       "\n",
       "Scaled residuals: \n",
       "    Min      1Q  Median      3Q     Max \n",
       "-3.2905 -0.4180  0.1159  0.5979  3.2886 \n",
       "\n",
       "Random effects:\n",
       " Groups   Name        Variance Std.Dev.\n",
       " subject  (Intercept) 0.00127  0.03564 \n",
       " Residual             0.04187  0.20461 \n",
       "Number of obs: 200, groups:  subject, 100\n",
       "\n",
       "Fixed effects:\n",
       "            Estimate Std. Error      df t value Pr(>|t|)    \n",
       "(Intercept)  -0.1815     0.0149 99.0000  -12.18   <2e-16 ***\n",
       "---\n",
       "Signif. codes:  0 ‘***’ 0.001 ‘**’ 0.01 ‘*’ 0.05 ‘.’ 0.1 ‘ ’ 1"
      ]
     },
     "metadata": {},
     "output_type": "display_data"
    }
   ],
   "source": [
    "summary(rhof.lm.0)"
   ]
  },
  {
   "cell_type": "code",
   "execution_count": 11,
   "id": "c724a4a3",
   "metadata": {},
   "outputs": [
    {
     "data": {
      "text/html": [
       "-0.181523295006043"
      ],
      "text/latex": [
       "-0.181523295006043"
      ],
      "text/markdown": [
       "-0.181523295006043"
      ],
      "text/plain": [
       "[1] -0.1815233"
      ]
     },
     "metadata": {},
     "output_type": "display_data"
    },
    {
     "data": {
      "text/html": [
       "-0.144963304884779"
      ],
      "text/latex": [
       "-0.144963304884779"
      ],
      "text/markdown": [
       "-0.144963304884779"
      ],
      "text/plain": [
       "[1] -0.1449633"
      ]
     },
     "metadata": {},
     "output_type": "display_data"
    },
    {
     "data": {
      "text/html": [
       "-0.218083285127307"
      ],
      "text/latex": [
       "-0.218083285127307"
      ],
      "text/markdown": [
       "-0.218083285127307"
      ],
      "text/plain": [
       "[1] -0.2180833"
      ]
     },
     "metadata": {},
     "output_type": "display_data"
    }
   ],
   "source": [
    "mean(rho_df$devz_ab)\n",
    "mean(rho_df$devz_ab[rho_df$param=='Rn'])\n",
    "mean(rho_df$devz_ab[rho_df$param=='Rp'])"
   ]
  },
  {
   "cell_type": "markdown",
   "id": "f92a95aa",
   "metadata": {},
   "source": [
    "## What is the effect of this deviation in the bound scaling domain?\n",
    "Because bound scaling errors are differentially impactful for positive and negative correlations, we can ask whether bound scaling errors are worse for positive or negative correlations, given the subjective correlations. \n",
    "\n",
    "To do so, we log-transform the bound scaling values since they are ratios, and we again flip the signs for the negative correlations so deviations are in the same \"direction.\""
   ]
  },
  {
   "cell_type": "code",
   "execution_count": 12,
   "id": "a66ec314",
   "metadata": {},
   "outputs": [],
   "source": [
    "#what about in terms of bound scaling?\n",
    "rho_df$scale_dev_log <- log10(rho_df$scale_dev)\n",
    "rho_df$scale_dev_logab <- rho_df$scale_dev_log\n",
    "rho_df$scale_dev_logab[rho_df$rho < 0] <- -rho_df$scale_dev_logab[rho_df$rho < 0]"
   ]
  },
  {
   "cell_type": "code",
   "execution_count": 13,
   "id": "c6a35b55",
   "metadata": {},
   "outputs": [
    {
     "name": "stderr",
     "output_type": "stream",
     "text": [
      "boundary (singular) fit: see help('isSingular')\n",
      "\n"
     ]
    }
   ],
   "source": [
    "#now let's test for scale factor deviation\n",
    "rho_sc.lm.0 <- lmer(scale_dev_logab~1 + param.f + (1|subject), \n",
    "                 data=rho_df, \n",
    "                 control=lmerControl(optimizer=\"bobyqa\",optCtrl=list(maxfun=2e5)))"
   ]
  },
  {
   "cell_type": "code",
   "execution_count": 14,
   "id": "4d45aa54",
   "metadata": {},
   "outputs": [
    {
     "data": {
      "text/plain": [
       "Linear mixed model fit by REML. t-tests use Satterthwaite's method [\n",
       "lmerModLmerTest]\n",
       "Formula: scale_dev_logab ~ 1 + param.f + (1 | subject)\n",
       "   Data: rho_df\n",
       "Control: lmerControl(optimizer = \"bobyqa\", optCtrl = list(maxfun = 2e+05))\n",
       "\n",
       "REML criterion at convergence: -750.9\n",
       "\n",
       "Scaled residuals: \n",
       "    Min      1Q  Median      3Q     Max \n",
       "-3.6515 -0.5969  0.1464  0.7075  2.2235 \n",
       "\n",
       "Random effects:\n",
       " Groups   Name        Variance Std.Dev. \n",
       " subject  (Intercept) 1.00e-21 3.162e-11\n",
       " Residual             1.26e-03 3.549e-02\n",
       "Number of obs: 200, groups:  subject, 100\n",
       "\n",
       "Fixed effects:\n",
       "              Estimate Std. Error         df t value Pr(>|t|)    \n",
       "(Intercept)  -0.037222   0.002510 198.000000 -14.831  < 2e-16 ***\n",
       "param.f2      0.021378   0.005019 198.000000   4.259 3.17e-05 ***\n",
       "---\n",
       "Signif. codes:  0 ‘***’ 0.001 ‘**’ 0.01 ‘*’ 0.05 ‘.’ 0.1 ‘ ’ 1\n",
       "\n",
       "Correlation of Fixed Effects:\n",
       "         (Intr)\n",
       "param.f2 0.000 \n",
       "optimizer (bobyqa) convergence code: 0 (OK)\n",
       "boundary (singular) fit: see help('isSingular')\n"
      ]
     },
     "metadata": {},
     "output_type": "display_data"
    }
   ],
   "source": [
    "summary(rho_sc.lm.0)"
   ]
  },
  {
   "cell_type": "markdown",
   "id": "954b2818",
   "metadata": {},
   "source": [
    "### gut checks because of singularity\n",
    "Because the intercept random effect variance was zero (boundary issue), we verify the results in two ways.\n",
    "\n",
    "1) placeing a weakly informative prior on the random effects\n",
    "2) repeating with multiple optimizers\n",
    "\n",
    "See: https://bbolker.github.io/mixedmodels-misc/glmmFAQ.html#singular-models-random-effect-variances-estimated-as-zero-or-correlations-estimated-as---1 and the help page for lme4 isSingular()."
   ]
  },
  {
   "cell_type": "code",
   "execution_count": 15,
   "id": "8bbd9987",
   "metadata": {},
   "outputs": [],
   "source": [
    "#do we gain any insight into singularity by using a prior on covariance?\n",
    "library(blme)\n",
    "rho_sc.lm.b <- blmer(scale_dev_logab~1 + param.f + (1|subject), \n",
    "                 data=rho_df, \n",
    "                 control=lmerControl(optimizer=\"bobyqa\",optCtrl=list(maxfun=2e5)))"
   ]
  },
  {
   "cell_type": "code",
   "execution_count": 16,
   "id": "67757463",
   "metadata": {},
   "outputs": [
    {
     "data": {
      "text/plain": [
       "Cov prior  : subject ~ wishart(df = 3.5, scale = Inf, posterior.scale = cov, common.scale = TRUE)\n",
       "Prior dev  : 4.0467\n",
       "\n",
       "Linear mixed model fit by REML ['blmerMod']\n",
       "Formula: scale_dev_logab ~ 1 + param.f + (1 | subject)\n",
       "   Data: rho_df\n",
       "Control: lmerControl(optimizer = \"bobyqa\", optCtrl = list(maxfun = 2e+05))\n",
       "\n",
       "REML criterion at convergence: -749.7\n",
       "\n",
       "Scaled residuals: \n",
       "    Min      1Q  Median      3Q     Max \n",
       "-3.4534 -0.5847  0.1473  0.7025  2.1803 \n",
       "\n",
       "Random effects:\n",
       " Groups   Name        Variance  Std.Dev.\n",
       " subject  (Intercept) 8.014e-05 0.008952\n",
       " Residual             1.190e-03 0.034494\n",
       "Number of obs: 200, groups:  subject, 100\n",
       "\n",
       "Fixed effects:\n",
       "             Estimate Std. Error t value\n",
       "(Intercept) -0.037222   0.002598 -14.326\n",
       "param.f2     0.021378   0.004878   4.382\n",
       "\n",
       "Correlation of Fixed Effects:\n",
       "         (Intr)\n",
       "param.f2 0.000 "
      ]
     },
     "metadata": {},
     "output_type": "display_data"
    }
   ],
   "source": [
    "summary(rho_sc.lm.b)"
   ]
  },
  {
   "cell_type": "code",
   "execution_count": 17,
   "id": "aa9cbbe8",
   "metadata": {},
   "outputs": [
    {
     "name": "stdout",
     "output_type": "stream",
     "text": [
      "bobyqa : "
     ]
    },
    {
     "name": "stderr",
     "output_type": "stream",
     "text": [
      "boundary (singular) fit: see help('isSingular')\n",
      "\n"
     ]
    },
    {
     "name": "stdout",
     "output_type": "stream",
     "text": [
      "[OK]\n",
      "Nelder_Mead : "
     ]
    },
    {
     "name": "stderr",
     "output_type": "stream",
     "text": [
      "boundary (singular) fit: see help('isSingular')\n",
      "\n"
     ]
    },
    {
     "name": "stdout",
     "output_type": "stream",
     "text": [
      "[OK]\n",
      "nlminbwrap : "
     ]
    },
    {
     "name": "stderr",
     "output_type": "stream",
     "text": [
      "boundary (singular) fit: see help('isSingular')\n",
      "\n"
     ]
    },
    {
     "name": "stdout",
     "output_type": "stream",
     "text": [
      "[OK]\n",
      "nloptwrap.NLOPT_LN_NELDERMEAD : "
     ]
    },
    {
     "name": "stderr",
     "output_type": "stream",
     "text": [
      "boundary (singular) fit: see help('isSingular')\n",
      "\n"
     ]
    },
    {
     "name": "stdout",
     "output_type": "stream",
     "text": [
      "[OK]\n",
      "nloptwrap.NLOPT_LN_BOBYQA : "
     ]
    },
    {
     "name": "stderr",
     "output_type": "stream",
     "text": [
      "boundary (singular) fit: see help('isSingular')\n",
      "\n"
     ]
    },
    {
     "name": "stdout",
     "output_type": "stream",
     "text": [
      "[OK]\n"
     ]
    }
   ],
   "source": [
    "rho_sc.lm.all <- allFit(rho_sc.lm.0)"
   ]
  },
  {
   "cell_type": "code",
   "execution_count": 18,
   "id": "6a6110a2",
   "metadata": {},
   "outputs": [
    {
     "data": {
      "text/plain": [
       "$which.OK\n",
       "                       bobyqa                   Nelder_Mead \n",
       "                         TRUE                          TRUE \n",
       "                   nlminbwrap nloptwrap.NLOPT_LN_NELDERMEAD \n",
       "                         TRUE                          TRUE \n",
       "    nloptwrap.NLOPT_LN_BOBYQA \n",
       "                         TRUE \n",
       "\n",
       "$msgs\n",
       "$msgs$bobyqa\n",
       "[1] \"boundary (singular) fit: see help('isSingular')\"\n",
       "\n",
       "$msgs$Nelder_Mead\n",
       "[1] \"boundary (singular) fit: see help('isSingular')\"\n",
       "\n",
       "$msgs$nlminbwrap\n",
       "[1] \"boundary (singular) fit: see help('isSingular')\"\n",
       "\n",
       "$msgs$nloptwrap.NLOPT_LN_NELDERMEAD\n",
       "[1] \"boundary (singular) fit: see help('isSingular')\"\n",
       "\n",
       "$msgs$nloptwrap.NLOPT_LN_BOBYQA\n",
       "[1] \"boundary (singular) fit: see help('isSingular')\"\n",
       "\n",
       "\n",
       "$fixef\n",
       "                              (Intercept)   param.f2\n",
       "bobyqa                        -0.03722226 0.02137831\n",
       "Nelder_Mead                   -0.03722226 0.02137831\n",
       "nlminbwrap                    -0.03722226 0.02137831\n",
       "nloptwrap.NLOPT_LN_NELDERMEAD -0.03722226 0.02137831\n",
       "nloptwrap.NLOPT_LN_BOBYQA     -0.03722226 0.02137831\n",
       "\n",
       "$llik\n",
       "                       bobyqa                   Nelder_Mead \n",
       "                     375.4527                      375.4527 \n",
       "                   nlminbwrap nloptwrap.NLOPT_LN_NELDERMEAD \n",
       "                     375.4527                      375.4527 \n",
       "    nloptwrap.NLOPT_LN_BOBYQA \n",
       "                     375.4527 \n",
       "\n",
       "$sdcor\n",
       "                              subject.(Intercept)      sigma\n",
       "bobyqa                               3.162343e-11 0.03549289\n",
       "Nelder_Mead                          0.000000e+00 0.03549289\n",
       "nlminbwrap                           0.000000e+00 0.03549289\n",
       "nloptwrap.NLOPT_LN_NELDERMEAD        0.000000e+00 0.03549289\n",
       "nloptwrap.NLOPT_LN_BOBYQA            0.000000e+00 0.03549289\n",
       "\n",
       "$theta\n",
       "                              subject.(Intercept)\n",
       "bobyqa                               8.909793e-10\n",
       "Nelder_Mead                          0.000000e+00\n",
       "nlminbwrap                           0.000000e+00\n",
       "nloptwrap.NLOPT_LN_NELDERMEAD        0.000000e+00\n",
       "nloptwrap.NLOPT_LN_BOBYQA            0.000000e+00\n",
       "\n",
       "$times\n",
       "                              user.self sys.self elapsed user.child sys.child\n",
       "bobyqa                            0.014    0.000   0.014          0         0\n",
       "Nelder_Mead                       0.015    0.000   0.015          0         0\n",
       "nlminbwrap                        0.013    0.001   0.014          0         0\n",
       "nloptwrap.NLOPT_LN_NELDERMEAD     0.015    0.000   0.015          0         0\n",
       "nloptwrap.NLOPT_LN_BOBYQA         0.013    0.001   0.014          0         0\n",
       "\n",
       "$feval\n",
       "                       bobyqa                   Nelder_Mead \n",
       "                           22                            12 \n",
       "                   nlminbwrap nloptwrap.NLOPT_LN_NELDERMEAD \n",
       "                           NA                             4 \n",
       "    nloptwrap.NLOPT_LN_BOBYQA \n",
       "                            9 \n",
       "\n",
       "attr(,\"class\")\n",
       "[1] \"summary.allFit\""
      ]
     },
     "metadata": {},
     "output_type": "display_data"
    }
   ],
   "source": [
    "summary(rho_sc.lm.all)"
   ]
  },
  {
   "cell_type": "markdown",
   "id": "bd4233ae",
   "metadata": {},
   "source": [
    "### finally compute sds for rho deviations"
   ]
  },
  {
   "cell_type": "code",
   "execution_count": 19,
   "id": "921837fb",
   "metadata": {},
   "outputs": [
    {
     "name": "stderr",
     "output_type": "stream",
     "text": [
      "\u001b[1m\u001b[22m`summarise()` has grouped output by 'rho'. You can override using the `.groups`\n",
      "argument.\n"
     ]
    },
    {
     "data": {
      "text/html": [
       "<table class=\"dataframe\">\n",
       "<caption>A grouped_df: 8 × 3</caption>\n",
       "<thead>\n",
       "\t<tr><th scope=col>rho</th><th scope=col>param</th><th scope=col>rho_sd</th></tr>\n",
       "\t<tr><th scope=col>&lt;dbl&gt;</th><th scope=col>&lt;chr&gt;</th><th scope=col>&lt;dbl&gt;</th></tr>\n",
       "</thead>\n",
       "<tbody>\n",
       "\t<tr><td>-0.8</td><td>Rn</td><td>0.11073425</td></tr>\n",
       "\t<tr><td>-0.6</td><td>Rn</td><td>0.10754602</td></tr>\n",
       "\t<tr><td>-0.4</td><td>Rn</td><td>0.08345925</td></tr>\n",
       "\t<tr><td>-0.2</td><td>Rn</td><td>0.08785124</td></tr>\n",
       "\t<tr><td> 0.2</td><td>Rp</td><td>0.13926349</td></tr>\n",
       "\t<tr><td> 0.4</td><td>Rp</td><td>0.17234297</td></tr>\n",
       "\t<tr><td> 0.6</td><td>Rp</td><td>0.28840498</td></tr>\n",
       "\t<tr><td> 0.8</td><td>Rp</td><td>0.29505180</td></tr>\n",
       "</tbody>\n",
       "</table>\n"
      ],
      "text/latex": [
       "A grouped\\_df: 8 × 3\n",
       "\\begin{tabular}{lll}\n",
       " rho & param & rho\\_sd\\\\\n",
       " <dbl> & <chr> & <dbl>\\\\\n",
       "\\hline\n",
       "\t -0.8 & Rn & 0.11073425\\\\\n",
       "\t -0.6 & Rn & 0.10754602\\\\\n",
       "\t -0.4 & Rn & 0.08345925\\\\\n",
       "\t -0.2 & Rn & 0.08785124\\\\\n",
       "\t  0.2 & Rp & 0.13926349\\\\\n",
       "\t  0.4 & Rp & 0.17234297\\\\\n",
       "\t  0.6 & Rp & 0.28840498\\\\\n",
       "\t  0.8 & Rp & 0.29505180\\\\\n",
       "\\end{tabular}\n"
      ],
      "text/markdown": [
       "\n",
       "A grouped_df: 8 × 3\n",
       "\n",
       "| rho &lt;dbl&gt; | param &lt;chr&gt; | rho_sd &lt;dbl&gt; |\n",
       "|---|---|---|\n",
       "| -0.8 | Rn | 0.11073425 |\n",
       "| -0.6 | Rn | 0.10754602 |\n",
       "| -0.4 | Rn | 0.08345925 |\n",
       "| -0.2 | Rn | 0.08785124 |\n",
       "|  0.2 | Rp | 0.13926349 |\n",
       "|  0.4 | Rp | 0.17234297 |\n",
       "|  0.6 | Rp | 0.28840498 |\n",
       "|  0.8 | Rp | 0.29505180 |\n",
       "\n"
      ],
      "text/plain": [
       "  rho  param rho_sd    \n",
       "1 -0.8 Rn    0.11073425\n",
       "2 -0.6 Rn    0.10754602\n",
       "3 -0.4 Rn    0.08345925\n",
       "4 -0.2 Rn    0.08785124\n",
       "5  0.2 Rp    0.13926349\n",
       "6  0.4 Rp    0.17234297\n",
       "7  0.6 Rp    0.28840498\n",
       "8  0.8 Rp    0.29505180"
      ]
     },
     "metadata": {},
     "output_type": "display_data"
    },
    {
     "data": {
      "text/html": [
       "<table class=\"dataframe\">\n",
       "<caption>A tibble: 2 × 2</caption>\n",
       "<thead>\n",
       "\t<tr><th scope=col>param</th><th scope=col>rho_sd_mean</th></tr>\n",
       "\t<tr><th scope=col>&lt;chr&gt;</th><th scope=col>&lt;dbl&gt;</th></tr>\n",
       "</thead>\n",
       "<tbody>\n",
       "\t<tr><td>Rn</td><td>0.09739769</td></tr>\n",
       "\t<tr><td>Rp</td><td>0.22376581</td></tr>\n",
       "</tbody>\n",
       "</table>\n"
      ],
      "text/latex": [
       "A tibble: 2 × 2\n",
       "\\begin{tabular}{ll}\n",
       " param & rho\\_sd\\_mean\\\\\n",
       " <chr> & <dbl>\\\\\n",
       "\\hline\n",
       "\t Rn & 0.09739769\\\\\n",
       "\t Rp & 0.22376581\\\\\n",
       "\\end{tabular}\n"
      ],
      "text/markdown": [
       "\n",
       "A tibble: 2 × 2\n",
       "\n",
       "| param &lt;chr&gt; | rho_sd_mean &lt;dbl&gt; |\n",
       "|---|---|\n",
       "| Rn | 0.09739769 |\n",
       "| Rp | 0.22376581 |\n",
       "\n"
      ],
      "text/plain": [
       "  param rho_sd_mean\n",
       "1 Rn    0.09739769 \n",
       "2 Rp    0.22376581 "
      ]
     },
     "metadata": {},
     "output_type": "display_data"
    }
   ],
   "source": [
    "rho_sd_rho <- summarise(group_by(rho_df,rho,param),rho_sd=sd(valuez))\n",
    "rho_sd_rho\n",
    "\n",
    "summarise(group_by(rho_sd_rho,param),rho_sd_mean=mean(rho_sd))"
   ]
  },
  {
   "cell_type": "code",
   "execution_count": null,
   "id": "0b4ae356",
   "metadata": {},
   "outputs": [],
   "source": []
  }
 ],
 "metadata": {
  "kernelspec": {
   "display_name": "R",
   "language": "R",
   "name": "ir"
  },
  "language_info": {
   "codemirror_mode": "r",
   "file_extension": ".r",
   "mimetype": "text/x-r-source",
   "name": "R",
   "pygments_lexer": "r",
   "version": "4.3.1"
  }
 },
 "nbformat": 4,
 "nbformat_minor": 5
}
