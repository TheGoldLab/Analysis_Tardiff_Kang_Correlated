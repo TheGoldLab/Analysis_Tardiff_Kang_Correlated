{
 "cells": [
  {
   "cell_type": "markdown",
   "id": "7cc62ae1",
   "metadata": {},
   "source": [
    "##### Basic analysis of behavioral RTs from the correlation task.\n",
    "\n",
    "\n",
    "Produces analyses associated with Fig 3.\n",
    "\n",
    "Normative evidence weighting and accumulation in correlated environments. Tardiff et al. (2024).\n",
    "\n",
    "Nathan Tardiff 05/28/24"
   ]
  },
  {
   "cell_type": "code",
   "execution_count": 1,
   "id": "3d0f33e7",
   "metadata": {
    "scrolled": false
   },
   "outputs": [
    {
     "name": "stderr",
     "output_type": "stream",
     "text": [
      "Loading required package: Matrix\n",
      "\n",
      "\n",
      "Attaching package: ‘dplyr’\n",
      "\n",
      "\n",
      "The following objects are masked from ‘package:stats’:\n",
      "\n",
      "    filter, lag\n",
      "\n",
      "\n",
      "The following objects are masked from ‘package:base’:\n",
      "\n",
      "    intersect, setdiff, setequal, union\n",
      "\n",
      "\n",
      "Loading required package: carData\n",
      "\n",
      "\n",
      "Attaching package: ‘car’\n",
      "\n",
      "\n",
      "The following object is masked from ‘package:dplyr’:\n",
      "\n",
      "    recode\n",
      "\n",
      "\n",
      "\n",
      "Attaching package: ‘lmerTest’\n",
      "\n",
      "\n",
      "The following object is masked from ‘package:lme4’:\n",
      "\n",
      "    lmer\n",
      "\n",
      "\n",
      "The following object is masked from ‘package:stats’:\n",
      "\n",
      "    step\n",
      "\n",
      "\n"
     ]
    },
    {
     "data": {
      "text/html": [
       "<table class=\"dataframe\">\n",
       "<caption>A data.frame: 6 × 12</caption>\n",
       "<thead>\n",
       "\t<tr><th></th><th scope=col>trial</th><th scope=col>subject</th><th scope=col>rho</th><th scope=col>mu</th><th scope=col>RT</th><th scope=col>response</th><th scope=col>correct</th><th scope=col>SNRraw</th><th scope=col>threshold</th><th scope=col>rho_cond</th><th scope=col>SNR</th><th scope=col>uSNR</th></tr>\n",
       "\t<tr><th></th><th scope=col>&lt;int&gt;</th><th scope=col>&lt;chr&gt;</th><th scope=col>&lt;dbl&gt;</th><th scope=col>&lt;dbl&gt;</th><th scope=col>&lt;dbl&gt;</th><th scope=col>&lt;dbl&gt;</th><th scope=col>&lt;dbl&gt;</th><th scope=col>&lt;dbl&gt;</th><th scope=col>&lt;dbl&gt;</th><th scope=col>&lt;dbl&gt;</th><th scope=col>&lt;dbl&gt;</th><th scope=col>&lt;dbl&gt;</th></tr>\n",
       "</thead>\n",
       "<tbody>\n",
       "\t<tr><th scope=row>1</th><td>1</td><td>5f3ee36d0306de1a411882a5</td><td> 0.2</td><td> 0.02069</td><td>1.6825</td><td>1</td><td>1</td><td> 0.1426920</td><td>0.3569007</td><td>0.2</td><td> 0.14</td><td> 0.1480</td></tr>\n",
       "\t<tr><th scope=row>2</th><td>2</td><td>5f3ee36d0306de1a411882a5</td><td>-0.2</td><td>-0.04224</td><td>2.0112</td><td>0</td><td>1</td><td>-0.8921088</td><td>0.3569007</td><td>0.2</td><td>-0.89</td><td>-0.9239</td></tr>\n",
       "\t<tr><th scope=row>3</th><td>3</td><td>5f3ee36d0306de1a411882a5</td><td> 0.0</td><td>-0.01889</td><td>2.4702</td><td>0</td><td>1</td><td>-0.1427328</td><td>0.3569007</td><td>0.2</td><td>-0.14</td><td>-0.1480</td></tr>\n",
       "\t<tr><th scope=row>4</th><td>4</td><td>5f3ee36d0306de1a411882a5</td><td> 0.0</td><td> 0.01889</td><td>2.4292</td><td>1</td><td>1</td><td> 0.1427328</td><td>0.3569007</td><td>0.2</td><td> 0.14</td><td> 0.1480</td></tr>\n",
       "\t<tr><th scope=row>5</th><td>5</td><td>5f3ee36d0306de1a411882a5</td><td> 0.2</td><td>-0.02069</td><td>3.5572</td><td>0</td><td>1</td><td>-0.1426920</td><td>0.3569007</td><td>0.2</td><td>-0.14</td><td>-0.1480</td></tr>\n",
       "\t<tr><th scope=row>6</th><td>6</td><td>5f3ee36d0306de1a411882a5</td><td>-0.2</td><td> 0.01690</td><td>4.1208</td><td>1</td><td>1</td><td> 0.1428050</td><td>0.3569007</td><td>0.2</td><td> 0.14</td><td> 0.1480</td></tr>\n",
       "</tbody>\n",
       "</table>\n"
      ],
      "text/latex": [
       "A data.frame: 6 × 12\n",
       "\\begin{tabular}{r|llllllllllll}\n",
       "  & trial & subject & rho & mu & RT & response & correct & SNRraw & threshold & rho\\_cond & SNR & uSNR\\\\\n",
       "  & <int> & <chr> & <dbl> & <dbl> & <dbl> & <dbl> & <dbl> & <dbl> & <dbl> & <dbl> & <dbl> & <dbl>\\\\\n",
       "\\hline\n",
       "\t1 & 1 & 5f3ee36d0306de1a411882a5 &  0.2 &  0.02069 & 1.6825 & 1 & 1 &  0.1426920 & 0.3569007 & 0.2 &  0.14 &  0.1480\\\\\n",
       "\t2 & 2 & 5f3ee36d0306de1a411882a5 & -0.2 & -0.04224 & 2.0112 & 0 & 1 & -0.8921088 & 0.3569007 & 0.2 & -0.89 & -0.9239\\\\\n",
       "\t3 & 3 & 5f3ee36d0306de1a411882a5 &  0.0 & -0.01889 & 2.4702 & 0 & 1 & -0.1427328 & 0.3569007 & 0.2 & -0.14 & -0.1480\\\\\n",
       "\t4 & 4 & 5f3ee36d0306de1a411882a5 &  0.0 &  0.01889 & 2.4292 & 1 & 1 &  0.1427328 & 0.3569007 & 0.2 &  0.14 &  0.1480\\\\\n",
       "\t5 & 5 & 5f3ee36d0306de1a411882a5 &  0.2 & -0.02069 & 3.5572 & 0 & 1 & -0.1426920 & 0.3569007 & 0.2 & -0.14 & -0.1480\\\\\n",
       "\t6 & 6 & 5f3ee36d0306de1a411882a5 & -0.2 &  0.01690 & 4.1208 & 1 & 1 &  0.1428050 & 0.3569007 & 0.2 &  0.14 &  0.1480\\\\\n",
       "\\end{tabular}\n"
      ],
      "text/markdown": [
       "\n",
       "A data.frame: 6 × 12\n",
       "\n",
       "| <!--/--> | trial &lt;int&gt; | subject &lt;chr&gt; | rho &lt;dbl&gt; | mu &lt;dbl&gt; | RT &lt;dbl&gt; | response &lt;dbl&gt; | correct &lt;dbl&gt; | SNRraw &lt;dbl&gt; | threshold &lt;dbl&gt; | rho_cond &lt;dbl&gt; | SNR &lt;dbl&gt; | uSNR &lt;dbl&gt; |\n",
       "|---|---|---|---|---|---|---|---|---|---|---|---|---|\n",
       "| 1 | 1 | 5f3ee36d0306de1a411882a5 |  0.2 |  0.02069 | 1.6825 | 1 | 1 |  0.1426920 | 0.3569007 | 0.2 |  0.14 |  0.1480 |\n",
       "| 2 | 2 | 5f3ee36d0306de1a411882a5 | -0.2 | -0.04224 | 2.0112 | 0 | 1 | -0.8921088 | 0.3569007 | 0.2 | -0.89 | -0.9239 |\n",
       "| 3 | 3 | 5f3ee36d0306de1a411882a5 |  0.0 | -0.01889 | 2.4702 | 0 | 1 | -0.1427328 | 0.3569007 | 0.2 | -0.14 | -0.1480 |\n",
       "| 4 | 4 | 5f3ee36d0306de1a411882a5 |  0.0 |  0.01889 | 2.4292 | 1 | 1 |  0.1427328 | 0.3569007 | 0.2 |  0.14 |  0.1480 |\n",
       "| 5 | 5 | 5f3ee36d0306de1a411882a5 |  0.2 | -0.02069 | 3.5572 | 0 | 1 | -0.1426920 | 0.3569007 | 0.2 | -0.14 | -0.1480 |\n",
       "| 6 | 6 | 5f3ee36d0306de1a411882a5 | -0.2 |  0.01690 | 4.1208 | 1 | 1 |  0.1428050 | 0.3569007 | 0.2 |  0.14 |  0.1480 |\n",
       "\n"
      ],
      "text/plain": [
       "  trial subject                  rho  mu       RT     response correct\n",
       "1 1     5f3ee36d0306de1a411882a5  0.2  0.02069 1.6825 1        1      \n",
       "2 2     5f3ee36d0306de1a411882a5 -0.2 -0.04224 2.0112 0        1      \n",
       "3 3     5f3ee36d0306de1a411882a5  0.0 -0.01889 2.4702 0        1      \n",
       "4 4     5f3ee36d0306de1a411882a5  0.0  0.01889 2.4292 1        1      \n",
       "5 5     5f3ee36d0306de1a411882a5  0.2 -0.02069 3.5572 0        1      \n",
       "6 6     5f3ee36d0306de1a411882a5 -0.2  0.01690 4.1208 1        1      \n",
       "  SNRraw     threshold rho_cond SNR   uSNR   \n",
       "1  0.1426920 0.3569007 0.2       0.14  0.1480\n",
       "2 -0.8921088 0.3569007 0.2      -0.89 -0.9239\n",
       "3 -0.1427328 0.3569007 0.2      -0.14 -0.1480\n",
       "4  0.1427328 0.3569007 0.2       0.14  0.1480\n",
       "5 -0.1426920 0.3569007 0.2      -0.14 -0.1480\n",
       "6  0.1428050 0.3569007 0.2       0.14  0.1480"
      ]
     },
     "metadata": {},
     "output_type": "display_data"
    }
   ],
   "source": [
    "#clear memory\n",
    "rm(list=ls())\n",
    "\n",
    "## loading data/libraries ##\n",
    "\n",
    "#load libraries\n",
    "library(lme4)\n",
    "library(dplyr)\n",
    "library(car)\n",
    "library(lmerTest)\n",
    "\n",
    "se <- function(x) sqrt(var(x) / length(x))\n",
    "\n",
    "switch(Sys.info()[['sysname']],\n",
    "       Windows = PROJECT_DIR <- paste0('C:/Users/',Sys.getenv('USERNAME'),\n",
    "                              '/Dropbox/Goldlab/correlated/'),\n",
    "       Darwin = PROJECT_DIR <- '~/Dropbox/Goldlab/correlated/'\n",
    ")\n",
    "\n",
    "DATA_DIR = paste0(PROJECT_DIR,'/data/')\n",
    "setwd(PROJECT_DIR)\n",
    "\n",
    "\n",
    "DATA_FILE = 'all_parsed_data_2023-08-06.csv'\n",
    "\n",
    "pt_df <- read.table(paste0(DATA_DIR,DATA_FILE),sep=',', header=TRUE, \n",
    "                    stringsAsFactors=FALSE,na.strings = 'NaN')\n",
    "\n",
    "if (any(is.na(pt_df))) {\n",
    "    stop('Misisng data detected!')\n",
    "}\n",
    "\n",
    "head(pt_df)"
   ]
  },
  {
   "cell_type": "code",
   "execution_count": 2,
   "id": "e0d9f7da",
   "metadata": {},
   "outputs": [],
   "source": [
    "## set up variables\n",
    "pt_df$aSNR <- abs(pt_df$uSNR)\n",
    "pt_df$rho01 <- sign(pt_df$rho) "
   ]
  },
  {
   "cell_type": "markdown",
   "id": "7a2f05fb",
   "metadata": {},
   "source": [
    "# Correct trials"
   ]
  },
  {
   "cell_type": "code",
   "execution_count": 3,
   "id": "61e551e2",
   "metadata": {},
   "outputs": [
    {
     "data": {
      "text/html": [
       "<table class=\"dataframe\">\n",
       "<caption>A data.frame: 6 × 14</caption>\n",
       "<thead>\n",
       "\t<tr><th></th><th scope=col>trial</th><th scope=col>subject</th><th scope=col>rho</th><th scope=col>mu</th><th scope=col>RT</th><th scope=col>response</th><th scope=col>correct</th><th scope=col>SNRraw</th><th scope=col>threshold</th><th scope=col>rho_cond</th><th scope=col>SNR</th><th scope=col>uSNR</th><th scope=col>aSNR</th><th scope=col>rho01</th></tr>\n",
       "\t<tr><th></th><th scope=col>&lt;int&gt;</th><th scope=col>&lt;chr&gt;</th><th scope=col>&lt;dbl&gt;</th><th scope=col>&lt;dbl&gt;</th><th scope=col>&lt;dbl&gt;</th><th scope=col>&lt;dbl&gt;</th><th scope=col>&lt;dbl&gt;</th><th scope=col>&lt;dbl&gt;</th><th scope=col>&lt;dbl&gt;</th><th scope=col>&lt;dbl&gt;</th><th scope=col>&lt;dbl&gt;</th><th scope=col>&lt;dbl&gt;</th><th scope=col>&lt;dbl&gt;</th><th scope=col>&lt;dbl&gt;</th></tr>\n",
       "</thead>\n",
       "<tbody>\n",
       "\t<tr><th scope=row>1</th><td>1</td><td>5f3ee36d0306de1a411882a5</td><td> 0.2</td><td> 0.02069</td><td>1.6825</td><td>1</td><td>1</td><td> 0.1426920</td><td>0.3569007</td><td>0.2</td><td> 0.14</td><td> 0.1480</td><td>0.1480</td><td> 1</td></tr>\n",
       "\t<tr><th scope=row>2</th><td>2</td><td>5f3ee36d0306de1a411882a5</td><td>-0.2</td><td>-0.04224</td><td>2.0112</td><td>0</td><td>1</td><td>-0.8921088</td><td>0.3569007</td><td>0.2</td><td>-0.89</td><td>-0.9239</td><td>0.9239</td><td>-1</td></tr>\n",
       "\t<tr><th scope=row>3</th><td>3</td><td>5f3ee36d0306de1a411882a5</td><td> 0.0</td><td>-0.01889</td><td>2.4702</td><td>0</td><td>1</td><td>-0.1427328</td><td>0.3569007</td><td>0.2</td><td>-0.14</td><td>-0.1480</td><td>0.1480</td><td> 0</td></tr>\n",
       "\t<tr><th scope=row>4</th><td>4</td><td>5f3ee36d0306de1a411882a5</td><td> 0.0</td><td> 0.01889</td><td>2.4292</td><td>1</td><td>1</td><td> 0.1427328</td><td>0.3569007</td><td>0.2</td><td> 0.14</td><td> 0.1480</td><td>0.1480</td><td> 0</td></tr>\n",
       "\t<tr><th scope=row>5</th><td>5</td><td>5f3ee36d0306de1a411882a5</td><td> 0.2</td><td>-0.02069</td><td>3.5572</td><td>0</td><td>1</td><td>-0.1426920</td><td>0.3569007</td><td>0.2</td><td>-0.14</td><td>-0.1480</td><td>0.1480</td><td> 1</td></tr>\n",
       "\t<tr><th scope=row>6</th><td>6</td><td>5f3ee36d0306de1a411882a5</td><td>-0.2</td><td> 0.01690</td><td>4.1208</td><td>1</td><td>1</td><td> 0.1428050</td><td>0.3569007</td><td>0.2</td><td> 0.14</td><td> 0.1480</td><td>0.1480</td><td>-1</td></tr>\n",
       "</tbody>\n",
       "</table>\n"
      ],
      "text/latex": [
       "A data.frame: 6 × 14\n",
       "\\begin{tabular}{r|llllllllllllll}\n",
       "  & trial & subject & rho & mu & RT & response & correct & SNRraw & threshold & rho\\_cond & SNR & uSNR & aSNR & rho01\\\\\n",
       "  & <int> & <chr> & <dbl> & <dbl> & <dbl> & <dbl> & <dbl> & <dbl> & <dbl> & <dbl> & <dbl> & <dbl> & <dbl> & <dbl>\\\\\n",
       "\\hline\n",
       "\t1 & 1 & 5f3ee36d0306de1a411882a5 &  0.2 &  0.02069 & 1.6825 & 1 & 1 &  0.1426920 & 0.3569007 & 0.2 &  0.14 &  0.1480 & 0.1480 &  1\\\\\n",
       "\t2 & 2 & 5f3ee36d0306de1a411882a5 & -0.2 & -0.04224 & 2.0112 & 0 & 1 & -0.8921088 & 0.3569007 & 0.2 & -0.89 & -0.9239 & 0.9239 & -1\\\\\n",
       "\t3 & 3 & 5f3ee36d0306de1a411882a5 &  0.0 & -0.01889 & 2.4702 & 0 & 1 & -0.1427328 & 0.3569007 & 0.2 & -0.14 & -0.1480 & 0.1480 &  0\\\\\n",
       "\t4 & 4 & 5f3ee36d0306de1a411882a5 &  0.0 &  0.01889 & 2.4292 & 1 & 1 &  0.1427328 & 0.3569007 & 0.2 &  0.14 &  0.1480 & 0.1480 &  0\\\\\n",
       "\t5 & 5 & 5f3ee36d0306de1a411882a5 &  0.2 & -0.02069 & 3.5572 & 0 & 1 & -0.1426920 & 0.3569007 & 0.2 & -0.14 & -0.1480 & 0.1480 &  1\\\\\n",
       "\t6 & 6 & 5f3ee36d0306de1a411882a5 & -0.2 &  0.01690 & 4.1208 & 1 & 1 &  0.1428050 & 0.3569007 & 0.2 &  0.14 &  0.1480 & 0.1480 & -1\\\\\n",
       "\\end{tabular}\n"
      ],
      "text/markdown": [
       "\n",
       "A data.frame: 6 × 14\n",
       "\n",
       "| <!--/--> | trial &lt;int&gt; | subject &lt;chr&gt; | rho &lt;dbl&gt; | mu &lt;dbl&gt; | RT &lt;dbl&gt; | response &lt;dbl&gt; | correct &lt;dbl&gt; | SNRraw &lt;dbl&gt; | threshold &lt;dbl&gt; | rho_cond &lt;dbl&gt; | SNR &lt;dbl&gt; | uSNR &lt;dbl&gt; | aSNR &lt;dbl&gt; | rho01 &lt;dbl&gt; |\n",
       "|---|---|---|---|---|---|---|---|---|---|---|---|---|---|---|\n",
       "| 1 | 1 | 5f3ee36d0306de1a411882a5 |  0.2 |  0.02069 | 1.6825 | 1 | 1 |  0.1426920 | 0.3569007 | 0.2 |  0.14 |  0.1480 | 0.1480 |  1 |\n",
       "| 2 | 2 | 5f3ee36d0306de1a411882a5 | -0.2 | -0.04224 | 2.0112 | 0 | 1 | -0.8921088 | 0.3569007 | 0.2 | -0.89 | -0.9239 | 0.9239 | -1 |\n",
       "| 3 | 3 | 5f3ee36d0306de1a411882a5 |  0.0 | -0.01889 | 2.4702 | 0 | 1 | -0.1427328 | 0.3569007 | 0.2 | -0.14 | -0.1480 | 0.1480 |  0 |\n",
       "| 4 | 4 | 5f3ee36d0306de1a411882a5 |  0.0 |  0.01889 | 2.4292 | 1 | 1 |  0.1427328 | 0.3569007 | 0.2 |  0.14 |  0.1480 | 0.1480 |  0 |\n",
       "| 5 | 5 | 5f3ee36d0306de1a411882a5 |  0.2 | -0.02069 | 3.5572 | 0 | 1 | -0.1426920 | 0.3569007 | 0.2 | -0.14 | -0.1480 | 0.1480 |  1 |\n",
       "| 6 | 6 | 5f3ee36d0306de1a411882a5 | -0.2 |  0.01690 | 4.1208 | 1 | 1 |  0.1428050 | 0.3569007 | 0.2 |  0.14 |  0.1480 | 0.1480 | -1 |\n",
       "\n"
      ],
      "text/plain": [
       "  trial subject                  rho  mu       RT     response correct\n",
       "1 1     5f3ee36d0306de1a411882a5  0.2  0.02069 1.6825 1        1      \n",
       "2 2     5f3ee36d0306de1a411882a5 -0.2 -0.04224 2.0112 0        1      \n",
       "3 3     5f3ee36d0306de1a411882a5  0.0 -0.01889 2.4702 0        1      \n",
       "4 4     5f3ee36d0306de1a411882a5  0.0  0.01889 2.4292 1        1      \n",
       "5 5     5f3ee36d0306de1a411882a5  0.2 -0.02069 3.5572 0        1      \n",
       "6 6     5f3ee36d0306de1a411882a5 -0.2  0.01690 4.1208 1        1      \n",
       "  SNRraw     threshold rho_cond SNR   uSNR    aSNR   rho01\n",
       "1  0.1426920 0.3569007 0.2       0.14  0.1480 0.1480  1   \n",
       "2 -0.8921088 0.3569007 0.2      -0.89 -0.9239 0.9239 -1   \n",
       "3 -0.1427328 0.3569007 0.2      -0.14 -0.1480 0.1480  0   \n",
       "4  0.1427328 0.3569007 0.2       0.14  0.1480 0.1480  0   \n",
       "5 -0.1426920 0.3569007 0.2      -0.14 -0.1480 0.1480  1   \n",
       "6  0.1428050 0.3569007 0.2       0.14  0.1480 0.1480 -1   "
      ]
     },
     "metadata": {},
     "output_type": "display_data"
    }
   ],
   "source": [
    "## Correct RT only\n",
    "pt_dfc <- subset(pt_df,correct==1)\n",
    "head(pt_dfc)"
   ]
  },
  {
   "cell_type": "code",
   "execution_count": 4,
   "id": "327ebe34",
   "metadata": {},
   "outputs": [
    {
     "data": {
      "image/png": "[encoded data removed]",
      "text/plain": [
       "Plot with title “Normal Q-Q Plot”"
      ]
     },
     "metadata": {
      "image/png": {
       "height": 420,
       "width": 420
      }
     },
     "output_type": "display_data"
    }
   ],
   "source": [
    "#Raw RTs extremely non-normal\n",
    "\n",
    "par(mfrow=c(1,2))\n",
    "hist(pt_dfc$RT)\n",
    "qqnorm(pt_dfc$RT)\n",
    "qqline(pt_dfc$RT)\n",
    "par(mfrow=c(1,1))"
   ]
  },
  {
   "cell_type": "code",
   "execution_count": 5,
   "id": "01d7458e",
   "metadata": {},
   "outputs": [
    {
     "name": "stderr",
     "output_type": "stream",
     "text": [
      "\u001b[1m\u001b[22m`summarise()` has grouped output by 'subject', 'rho_cond', 'rho01', 'aSNR'. You\n",
      "can override using the `.groups` argument.\n"
     ]
    },
    {
     "data": {
      "text/html": [
       "<table class=\"dataframe\">\n",
       "<caption>A grouped_df: 6 × 6</caption>\n",
       "<thead>\n",
       "\t<tr><th scope=col>subject</th><th scope=col>rho_cond</th><th scope=col>rho01</th><th scope=col>aSNR</th><th scope=col>uSNR</th><th scope=col>RT</th></tr>\n",
       "\t<tr><th scope=col>&lt;chr&gt;</th><th scope=col>&lt;dbl&gt;</th><th scope=col>&lt;dbl&gt;</th><th scope=col>&lt;dbl&gt;</th><th scope=col>&lt;dbl&gt;</th><th scope=col>&lt;dbl&gt;</th></tr>\n",
       "</thead>\n",
       "<tbody>\n",
       "\t<tr><td>575f387c91f8b40006c332e1</td><td>0.4</td><td>-1</td><td>0.1480</td><td>-0.1480</td><td>2.98470</td></tr>\n",
       "\t<tr><td>575f387c91f8b40006c332e1</td><td>0.4</td><td>-1</td><td>0.1480</td><td> 0.1480</td><td>2.60860</td></tr>\n",
       "\t<tr><td>575f387c91f8b40006c332e1</td><td>0.4</td><td>-1</td><td>0.9239</td><td>-0.9239</td><td>2.75940</td></tr>\n",
       "\t<tr><td>575f387c91f8b40006c332e1</td><td>0.4</td><td>-1</td><td>0.9239</td><td> 0.9239</td><td>2.48670</td></tr>\n",
       "\t<tr><td>575f387c91f8b40006c332e1</td><td>0.4</td><td> 0</td><td>0.1480</td><td>-0.1480</td><td>2.61425</td></tr>\n",
       "\t<tr><td>575f387c91f8b40006c332e1</td><td>0.4</td><td> 0</td><td>0.1480</td><td> 0.1480</td><td>2.93520</td></tr>\n",
       "</tbody>\n",
       "</table>\n"
      ],
      "text/latex": [
       "A grouped\\_df: 6 × 6\n",
       "\\begin{tabular}{llllll}\n",
       " subject & rho\\_cond & rho01 & aSNR & uSNR & RT\\\\\n",
       " <chr> & <dbl> & <dbl> & <dbl> & <dbl> & <dbl>\\\\\n",
       "\\hline\n",
       "\t 575f387c91f8b40006c332e1 & 0.4 & -1 & 0.1480 & -0.1480 & 2.98470\\\\\n",
       "\t 575f387c91f8b40006c332e1 & 0.4 & -1 & 0.1480 &  0.1480 & 2.60860\\\\\n",
       "\t 575f387c91f8b40006c332e1 & 0.4 & -1 & 0.9239 & -0.9239 & 2.75940\\\\\n",
       "\t 575f387c91f8b40006c332e1 & 0.4 & -1 & 0.9239 &  0.9239 & 2.48670\\\\\n",
       "\t 575f387c91f8b40006c332e1 & 0.4 &  0 & 0.1480 & -0.1480 & 2.61425\\\\\n",
       "\t 575f387c91f8b40006c332e1 & 0.4 &  0 & 0.1480 &  0.1480 & 2.93520\\\\\n",
       "\\end{tabular}\n"
      ],
      "text/markdown": [
       "\n",
       "A grouped_df: 6 × 6\n",
       "\n",
       "| subject &lt;chr&gt; | rho_cond &lt;dbl&gt; | rho01 &lt;dbl&gt; | aSNR &lt;dbl&gt; | uSNR &lt;dbl&gt; | RT &lt;dbl&gt; |\n",
       "|---|---|---|---|---|---|\n",
       "| 575f387c91f8b40006c332e1 | 0.4 | -1 | 0.1480 | -0.1480 | 2.98470 |\n",
       "| 575f387c91f8b40006c332e1 | 0.4 | -1 | 0.1480 |  0.1480 | 2.60860 |\n",
       "| 575f387c91f8b40006c332e1 | 0.4 | -1 | 0.9239 | -0.9239 | 2.75940 |\n",
       "| 575f387c91f8b40006c332e1 | 0.4 | -1 | 0.9239 |  0.9239 | 2.48670 |\n",
       "| 575f387c91f8b40006c332e1 | 0.4 |  0 | 0.1480 | -0.1480 | 2.61425 |\n",
       "| 575f387c91f8b40006c332e1 | 0.4 |  0 | 0.1480 |  0.1480 | 2.93520 |\n",
       "\n"
      ],
      "text/plain": [
       "  subject                  rho_cond rho01 aSNR   uSNR    RT     \n",
       "1 575f387c91f8b40006c332e1 0.4      -1    0.1480 -0.1480 2.98470\n",
       "2 575f387c91f8b40006c332e1 0.4      -1    0.1480  0.1480 2.60860\n",
       "3 575f387c91f8b40006c332e1 0.4      -1    0.9239 -0.9239 2.75940\n",
       "4 575f387c91f8b40006c332e1 0.4      -1    0.9239  0.9239 2.48670\n",
       "5 575f387c91f8b40006c332e1 0.4       0    0.1480 -0.1480 2.61425\n",
       "6 575f387c91f8b40006c332e1 0.4       0    0.1480  0.1480 2.93520"
      ]
     },
     "metadata": {},
     "output_type": "display_data"
    }
   ],
   "source": [
    "## compute medians for analysis \n",
    "pt_dfc.med <- summarise(group_by(pt_dfc,subject,rho_cond,rho01,aSNR,uSNR),RT=median(RT))\n",
    "\n",
    "head(pt_dfc.med)\n",
    "\n",
    "if (!nrow(pt_dfc.med)==25*4*3*4) {\n",
    "    stop('Incorrect number of data points detected!')\n",
    "}"
   ]
  },
  {
   "cell_type": "code",
   "execution_count": 6,
   "id": "d779dda0",
   "metadata": {},
   "outputs": [
    {
     "data": {
      "image/png": "[encoded data removed]",
      "text/plain": [
       "Plot with title “Normal Q-Q Plot”"
      ]
     },
     "metadata": {
      "image/png": {
       "height": 420,
       "width": 420
      }
     },
     "output_type": "display_data"
    }
   ],
   "source": [
    "#How are median RTs?\n",
    "#better...\n",
    "\n",
    "par(mfrow=c(1,2))\n",
    "hist(pt_dfc.med$RT)\n",
    "qqnorm(pt_dfc.med$RT)\n",
    "qqline(pt_dfc.med$RT)\n",
    "par(mfrow=c(1,1))"
   ]
  },
  {
   "cell_type": "code",
   "execution_count": 7,
   "id": "9d38872e",
   "metadata": {},
   "outputs": [
    {
     "data": {
      "text/html": [
       "<table class=\"dataframe\">\n",
       "<caption>A grouped_df: 2 × 2</caption>\n",
       "<thead>\n",
       "\t<tr><th scope=col>aSNR</th><th scope=col>aSNR.fs</th></tr>\n",
       "\t<tr><th scope=col>&lt;dbl&gt;</th><th scope=col>&lt;fct&gt;</th></tr>\n",
       "</thead>\n",
       "<tbody>\n",
       "\t<tr><td>0.1480</td><td>l</td></tr>\n",
       "\t<tr><td>0.9239</td><td>h</td></tr>\n",
       "</tbody>\n",
       "</table>\n"
      ],
      "text/latex": [
       "A grouped\\_df: 2 × 2\n",
       "\\begin{tabular}{ll}\n",
       " aSNR & aSNR.fs\\\\\n",
       " <dbl> & <fct>\\\\\n",
       "\\hline\n",
       "\t 0.1480 & l\\\\\n",
       "\t 0.9239 & h\\\\\n",
       "\\end{tabular}\n"
      ],
      "text/markdown": [
       "\n",
       "A grouped_df: 2 × 2\n",
       "\n",
       "| aSNR &lt;dbl&gt; | aSNR.fs &lt;fct&gt; |\n",
       "|---|---|\n",
       "| 0.1480 | l |\n",
       "| 0.9239 | h |\n",
       "\n"
      ],
      "text/plain": [
       "  aSNR   aSNR.fs\n",
       "1 0.1480 l      \n",
       "2 0.9239 h      "
      ]
     },
     "metadata": {},
     "output_type": "display_data"
    },
    {
     "data": {
      "text/html": [
       "<table class=\"dataframe\">\n",
       "<caption>A matrix: 2 × 1 of type dbl</caption>\n",
       "<tbody>\n",
       "\t<tr><th scope=row>l</th><td> 1</td></tr>\n",
       "\t<tr><th scope=row>h</th><td>-1</td></tr>\n",
       "</tbody>\n",
       "</table>\n"
      ],
      "text/latex": [
       "A matrix: 2 × 1 of type dbl\n",
       "\\begin{tabular}{r|l}\n",
       "\tl &  1\\\\\n",
       "\th & -1\\\\\n",
       "\\end{tabular}\n"
      ],
      "text/markdown": [
       "\n",
       "A matrix: 2 × 1 of type dbl\n",
       "\n",
       "| l |  1 |\n",
       "| h | -1 |\n",
       "\n"
      ],
      "text/plain": [
       "  [,1]\n",
       "l  1  \n",
       "h -1  "
      ]
     },
     "metadata": {},
     "output_type": "display_data"
    },
    {
     "data": {
      "text/html": [
       "<table class=\"dataframe\">\n",
       "<caption>A grouped_df: 3 × 2</caption>\n",
       "<thead>\n",
       "\t<tr><th scope=col>rho01</th><th scope=col>rho01.fs</th></tr>\n",
       "\t<tr><th scope=col>&lt;dbl&gt;</th><th scope=col>&lt;fct&gt;</th></tr>\n",
       "</thead>\n",
       "<tbody>\n",
       "\t<tr><td>-1</td><td>n</td></tr>\n",
       "\t<tr><td> 0</td><td>0</td></tr>\n",
       "\t<tr><td> 1</td><td>p</td></tr>\n",
       "</tbody>\n",
       "</table>\n"
      ],
      "text/latex": [
       "A grouped\\_df: 3 × 2\n",
       "\\begin{tabular}{ll}\n",
       " rho01 & rho01.fs\\\\\n",
       " <dbl> & <fct>\\\\\n",
       "\\hline\n",
       "\t -1 & n\\\\\n",
       "\t  0 & 0\\\\\n",
       "\t  1 & p\\\\\n",
       "\\end{tabular}\n"
      ],
      "text/markdown": [
       "\n",
       "A grouped_df: 3 × 2\n",
       "\n",
       "| rho01 &lt;dbl&gt; | rho01.fs &lt;fct&gt; |\n",
       "|---|---|\n",
       "| -1 | n |\n",
       "|  0 | 0 |\n",
       "|  1 | p |\n",
       "\n"
      ],
      "text/plain": [
       "  rho01 rho01.fs\n",
       "1 -1    n       \n",
       "2  0    0       \n",
       "3  1    p       "
      ]
     },
     "metadata": {},
     "output_type": "display_data"
    },
    {
     "data": {
      "text/html": [
       "<table class=\"dataframe\">\n",
       "<caption>A matrix: 3 × 2 of type dbl</caption>\n",
       "<tbody>\n",
       "\t<tr><th scope=row>p</th><td> 1</td><td> 0</td></tr>\n",
       "\t<tr><th scope=row>n</th><td> 0</td><td> 1</td></tr>\n",
       "\t<tr><th scope=row>0</th><td>-1</td><td>-1</td></tr>\n",
       "</tbody>\n",
       "</table>\n"
      ],
      "text/latex": [
       "A matrix: 3 × 2 of type dbl\n",
       "\\begin{tabular}{r|ll}\n",
       "\tp &  1 &  0\\\\\n",
       "\tn &  0 &  1\\\\\n",
       "\t0 & -1 & -1\\\\\n",
       "\\end{tabular}\n"
      ],
      "text/markdown": [
       "\n",
       "A matrix: 3 × 2 of type dbl\n",
       "\n",
       "| p |  1 |  0 |\n",
       "| n |  0 |  1 |\n",
       "| 0 | -1 | -1 |\n",
       "\n"
      ],
      "text/plain": [
       "  [,1] [,2]\n",
       "p  1    0  \n",
       "n  0    1  \n",
       "0 -1   -1  "
      ]
     },
     "metadata": {},
     "output_type": "display_data"
    },
    {
     "data": {
      "text/html": [
       "<table class=\"dataframe\">\n",
       "<caption>A grouped_df: 4 × 2</caption>\n",
       "<thead>\n",
       "\t<tr><th scope=col>rho_cond</th><th scope=col>zrho_cond</th></tr>\n",
       "\t<tr><th scope=col>&lt;dbl&gt;</th><th scope=col>&lt;dbl[,1]&gt;</th></tr>\n",
       "</thead>\n",
       "<tbody>\n",
       "\t<tr><td>0.4</td><td>-0.4470272</td></tr>\n",
       "\t<tr><td>0.8</td><td> 1.3410817</td></tr>\n",
       "\t<tr><td>0.6</td><td> 0.4470272</td></tr>\n",
       "\t<tr><td>0.2</td><td>-1.3410817</td></tr>\n",
       "</tbody>\n",
       "</table>\n"
      ],
      "text/latex": [
       "A grouped\\_df: 4 × 2\n",
       "\\begin{tabular}{ll}\n",
       " rho\\_cond & zrho\\_cond\\\\\n",
       " <dbl> & <dbl{[},1{]}>\\\\\n",
       "\\hline\n",
       "\t 0.4 & -0.4470272\\\\\n",
       "\t 0.8 &  1.3410817\\\\\n",
       "\t 0.6 &  0.4470272\\\\\n",
       "\t 0.2 & -1.3410817\\\\\n",
       "\\end{tabular}\n"
      ],
      "text/markdown": [
       "\n",
       "A grouped_df: 4 × 2\n",
       "\n",
       "| rho_cond &lt;dbl&gt; | zrho_cond &lt;dbl[,1]&gt; |\n",
       "|---|---|\n",
       "| 0.4 | -0.4470272 |\n",
       "| 0.8 |  1.3410817 |\n",
       "| 0.6 |  0.4470272 |\n",
       "| 0.2 | -1.3410817 |\n",
       "\n"
      ],
      "text/plain": [
       "  rho_cond zrho_cond \n",
       "1 0.4      -0.4470272\n",
       "2 0.8       1.3410817\n",
       "3 0.6       0.4470272\n",
       "4 0.2      -1.3410817"
      ]
     },
     "metadata": {},
     "output_type": "display_data"
    }
   ],
   "source": [
    "#set up factors\n",
    "pt_dfc.med$aSNR.fs <- factor(pt_dfc.med$aSNR,labels=c(\"l\",\"h\"))\n",
    "unique(pt_dfc.med[,c('aSNR','aSNR.fs')])\n",
    "contrasts(pt_dfc.med$aSNR.fs) <- contr.sum(2)\n",
    "contrasts(pt_dfc.med$aSNR.fs)\n",
    "\n",
    "pt_dfc.med$rho01.fs <- factor(pt_dfc.med$rho01,levels=c(1,-1,0),labels=c(\"p\",\"n\",\"0\"))\n",
    "unique(pt_dfc.med[,c('rho01','rho01.fs')])\n",
    "contrasts(pt_dfc.med$rho01.fs) <- contr.sum(3)\n",
    "contrasts(pt_dfc.med$rho01.fs)\n",
    "\n",
    "#set up variables\n",
    "#pt_dfc.med$zaSNR <- scale(pt_dfc.med$aSNR)\n",
    "pt_dfc.med$zrho_cond <- scale(pt_dfc.med$rho_cond)\n",
    "\n",
    "#unique(pt_dfc.med[,c('aSNR','zaSNR')])\n",
    "unique(pt_dfc.med[,c('rho_cond','zrho_cond')])"
   ]
  },
  {
   "cell_type": "code",
   "execution_count": 8,
   "id": "cd03c722",
   "metadata": {},
   "outputs": [
    {
     "data": {
      "text/html": [
       "<table class=\"dataframe\">\n",
       "<caption>A tibble: 2 × 2</caption>\n",
       "<thead>\n",
       "\t<tr><th scope=col>aSNR.fs</th><th scope=col>aSNR.fs1</th></tr>\n",
       "\t<tr><th scope=col>&lt;fct&gt;</th><th scope=col>&lt;dbl&gt;</th></tr>\n",
       "</thead>\n",
       "<tbody>\n",
       "\t<tr><td>l</td><td> 1</td></tr>\n",
       "\t<tr><td>h</td><td>-1</td></tr>\n",
       "</tbody>\n",
       "</table>\n"
      ],
      "text/latex": [
       "A tibble: 2 × 2\n",
       "\\begin{tabular}{ll}\n",
       " aSNR.fs & aSNR.fs1\\\\\n",
       " <fct> & <dbl>\\\\\n",
       "\\hline\n",
       "\t l &  1\\\\\n",
       "\t h & -1\\\\\n",
       "\\end{tabular}\n"
      ],
      "text/markdown": [
       "\n",
       "A tibble: 2 × 2\n",
       "\n",
       "| aSNR.fs &lt;fct&gt; | aSNR.fs1 &lt;dbl&gt; |\n",
       "|---|---|\n",
       "| l |  1 |\n",
       "| h | -1 |\n",
       "\n"
      ],
      "text/plain": [
       "  aSNR.fs aSNR.fs1\n",
       "1 l        1      \n",
       "2 h       -1      "
      ]
     },
     "metadata": {},
     "output_type": "display_data"
    },
    {
     "data": {
      "text/html": [
       "<table class=\"dataframe\">\n",
       "<caption>A tibble: 3 × 3</caption>\n",
       "<thead>\n",
       "\t<tr><th scope=col>rho01.fs</th><th scope=col>rho01.fs1</th><th scope=col>rho01.fs2</th></tr>\n",
       "\t<tr><th scope=col>&lt;fct&gt;</th><th scope=col>&lt;dbl&gt;</th><th scope=col>&lt;dbl&gt;</th></tr>\n",
       "</thead>\n",
       "<tbody>\n",
       "\t<tr><td>n</td><td> 0</td><td> 1</td></tr>\n",
       "\t<tr><td>0</td><td>-1</td><td>-1</td></tr>\n",
       "\t<tr><td>p</td><td> 1</td><td> 0</td></tr>\n",
       "</tbody>\n",
       "</table>\n"
      ],
      "text/latex": [
       "A tibble: 3 × 3\n",
       "\\begin{tabular}{lll}\n",
       " rho01.fs & rho01.fs1 & rho01.fs2\\\\\n",
       " <fct> & <dbl> & <dbl>\\\\\n",
       "\\hline\n",
       "\t n &  0 &  1\\\\\n",
       "\t 0 & -1 & -1\\\\\n",
       "\t p &  1 &  0\\\\\n",
       "\\end{tabular}\n"
      ],
      "text/markdown": [
       "\n",
       "A tibble: 3 × 3\n",
       "\n",
       "| rho01.fs &lt;fct&gt; | rho01.fs1 &lt;dbl&gt; | rho01.fs2 &lt;dbl&gt; |\n",
       "|---|---|---|\n",
       "| n |  0 |  1 |\n",
       "| 0 | -1 | -1 |\n",
       "| p |  1 |  0 |\n",
       "\n"
      ],
      "text/plain": [
       "  rho01.fs rho01.fs1 rho01.fs2\n",
       "1 n         0         1       \n",
       "2 0        -1        -1       \n",
       "3 p         1         0       "
      ]
     },
     "metadata": {},
     "output_type": "display_data"
    }
   ],
   "source": [
    "#set factors for random effects\n",
    "\n",
    "pt_dfc.med[,c('aSNR.fs1')] <- \n",
    "  model.matrix(~1+pt_dfc.med$aSNR.fs,pt_dfc.med)[,2]\n",
    "pt_dfc.med[,c('rho01.fs1','rho01.fs2')] <- \n",
    "  model.matrix(~1+pt_dfc.med$rho01.fs,pt_dfc.med)[,2:3]\n",
    "\n",
    "unique(pt_dfc.med[,c('aSNR.fs','aSNR.fs1')])\n",
    "unique(pt_dfc.med[,c('rho01.fs','rho01.fs1','rho01.fs2')])"
   ]
  },
  {
   "cell_type": "markdown",
   "id": "53f87e8d",
   "metadata": {},
   "source": [
    "## fit x rho cond\n",
    "\n",
    "Allow effects of SNR and rho to vary by rho cond"
   ]
  },
  {
   "cell_type": "code",
   "execution_count": 9,
   "id": "c6699ead",
   "metadata": {},
   "outputs": [],
   "source": [
    "#now let's allow to vary by rho cond\n",
    "rt.lm.1nc <- lmer(RT~aSNR.fs*zrho_cond + rho01.fs*zrho_cond + \n",
    "                  (1 + aSNR.fs1 + rho01.fs1 + rho01.fs2||subject), \n",
    "                 data=pt_dfc.med, \n",
    "                 control=lmerControl(optimizer=\"bobyqa\",optCtrl=list(maxfun=2e5)))"
   ]
  },
  {
   "cell_type": "code",
   "execution_count": 10,
   "id": "55c09f08",
   "metadata": {},
   "outputs": [
    {
     "data": {
      "text/plain": [
       "Linear mixed model fit by REML. t-tests use Satterthwaite's method [\n",
       "lmerModLmerTest]\n",
       "Formula: RT ~ aSNR.fs * zrho_cond + rho01.fs * zrho_cond + (1 + aSNR.fs1 +  \n",
       "    rho01.fs1 + rho01.fs2 || subject)\n",
       "   Data: pt_dfc.med\n",
       "Control: lmerControl(optimizer = \"bobyqa\", optCtrl = list(maxfun = 2e+05))\n",
       "\n",
       "REML criterion at convergence: 996.7\n",
       "\n",
       "Scaled residuals: \n",
       "    Min      1Q  Median      3Q     Max \n",
       "-5.7924 -0.4806 -0.0349  0.4280  5.3361 \n",
       "\n",
       "Random effects:\n",
       " Groups    Name        Variance Std.Dev.\n",
       " subject   (Intercept) 0.641440 0.80090 \n",
       " subject.1 aSNR.fs1    0.018690 0.13671 \n",
       " subject.2 rho01.fs1   0.008291 0.09106 \n",
       " subject.3 rho01.fs2   0.019250 0.13874 \n",
       " Residual              0.066723 0.25831 \n",
       "Number of obs: 1200, groups:  subject, 100\n",
       "\n",
       "Fixed effects:\n",
       "                    Estimate Std. Error       df t value Pr(>|t|)    \n",
       "(Intercept)          2.15132    0.08044 98.00002  26.746  < 2e-16 ***\n",
       "aSNR.fs1             0.20556    0.01557 98.00000  13.200  < 2e-16 ***\n",
       "zrho_cond            0.05716    0.08047 98.00002   0.710   0.4792    \n",
       "rho01.fs1           -0.23066    0.01393 87.65374 -16.555  < 2e-16 ***\n",
       "rho01.fs2            0.28611    0.01743 87.65375  16.417  < 2e-16 ***\n",
       "aSNR.fs1:zrho_cond   0.02635    0.01558 98.00000   1.691   0.0939 .  \n",
       "zrho_cond:rho01.fs1 -0.12355    0.01394 87.65374  -8.864 8.05e-14 ***\n",
       "zrho_cond:rho01.fs2  0.19130    0.01743 87.65375  10.973  < 2e-16 ***\n",
       "---\n",
       "Signif. codes:  0 ‘***’ 0.001 ‘**’ 0.01 ‘*’ 0.05 ‘.’ 0.1 ‘ ’ 1\n",
       "\n",
       "Correlation of Fixed Effects:\n",
       "            (Intr) aSNR.f1 zrh_cn rh01.1 rh01.2 aSNR.1: z_:01.1\n",
       "aSNR.fs1     0.000                                             \n",
       "zrho_cond    0.000  0.000                                      \n",
       "rho01.fs1    0.000  0.000   0.000                              \n",
       "rho01.fs2    0.000  0.000   0.000 -0.229                       \n",
       "aSNR.fs1:z_  0.000  0.000   0.000  0.000  0.000                \n",
       "zrh_cn:01.1  0.000  0.000   0.000  0.000  0.000  0.000         \n",
       "zrh_cn:01.2  0.000  0.000   0.000  0.000  0.000  0.000  -0.229 "
      ]
     },
     "metadata": {},
     "output_type": "display_data"
    }
   ],
   "source": [
    "summary(rt.lm.1nc)"
   ]
  },
  {
   "cell_type": "code",
   "execution_count": 11,
   "id": "91ef18cf",
   "metadata": {},
   "outputs": [
    {
     "data": {
      "text/html": [
       "<table class=\"dataframe\">\n",
       "<caption>A anova: 6 × 4</caption>\n",
       "<thead>\n",
       "\t<tr><th></th><th scope=col>F</th><th scope=col>Df</th><th scope=col>Df.res</th><th scope=col>Pr(&gt;F)</th></tr>\n",
       "\t<tr><th></th><th scope=col>&lt;dbl&gt;</th><th scope=col>&lt;dbl&gt;</th><th scope=col>&lt;dbl&gt;</th><th scope=col>&lt;dbl&gt;</th></tr>\n",
       "</thead>\n",
       "<tbody>\n",
       "\t<tr><th scope=row>(Intercept)</th><td>715.3286401</td><td>1</td><td> 98.0000</td><td>7.934999e-47</td></tr>\n",
       "\t<tr><th scope=row>aSNR.fs</th><td>174.2420042</td><td>1</td><td> 98.0000</td><td>1.807118e-23</td></tr>\n",
       "\t<tr><th scope=row>zrho_cond</th><td>  0.5045418</td><td>1</td><td> 98.0000</td><td>4.791982e-01</td></tr>\n",
       "\t<tr><th scope=row>rho01.fs</th><td>219.9621169</td><td>2</td><td>131.5589</td><td>1.097487e-42</td></tr>\n",
       "\t<tr><th scope=row>aSNR.fs:zrho_cond</th><td>  2.8606767</td><td>1</td><td> 98.0000</td><td>9.394715e-02</td></tr>\n",
       "\t<tr><th scope=row>zrho_cond:rho01.fs</th><td> 81.0443766</td><td>2</td><td>131.5589</td><td>1.154231e-23</td></tr>\n",
       "</tbody>\n",
       "</table>\n"
      ],
      "text/latex": [
       "A anova: 6 × 4\n",
       "\\begin{tabular}{r|llll}\n",
       "  & F & Df & Df.res & Pr(>F)\\\\\n",
       "  & <dbl> & <dbl> & <dbl> & <dbl>\\\\\n",
       "\\hline\n",
       "\t(Intercept) & 715.3286401 & 1 &  98.0000 & 7.934999e-47\\\\\n",
       "\taSNR.fs & 174.2420042 & 1 &  98.0000 & 1.807118e-23\\\\\n",
       "\tzrho\\_cond &   0.5045418 & 1 &  98.0000 & 4.791982e-01\\\\\n",
       "\trho01.fs & 219.9621169 & 2 & 131.5589 & 1.097487e-42\\\\\n",
       "\taSNR.fs:zrho\\_cond &   2.8606767 & 1 &  98.0000 & 9.394715e-02\\\\\n",
       "\tzrho\\_cond:rho01.fs &  81.0443766 & 2 & 131.5589 & 1.154231e-23\\\\\n",
       "\\end{tabular}\n"
      ],
      "text/markdown": [
       "\n",
       "A anova: 6 × 4\n",
       "\n",
       "| <!--/--> | F &lt;dbl&gt; | Df &lt;dbl&gt; | Df.res &lt;dbl&gt; | Pr(&gt;F) &lt;dbl&gt; |\n",
       "|---|---|---|---|---|\n",
       "| (Intercept) | 715.3286401 | 1 |  98.0000 | 7.934999e-47 |\n",
       "| aSNR.fs | 174.2420042 | 1 |  98.0000 | 1.807118e-23 |\n",
       "| zrho_cond |   0.5045418 | 1 |  98.0000 | 4.791982e-01 |\n",
       "| rho01.fs | 219.9621169 | 2 | 131.5589 | 1.097487e-42 |\n",
       "| aSNR.fs:zrho_cond |   2.8606767 | 1 |  98.0000 | 9.394715e-02 |\n",
       "| zrho_cond:rho01.fs |  81.0443766 | 2 | 131.5589 | 1.154231e-23 |\n",
       "\n"
      ],
      "text/plain": [
       "                   F           Df Df.res   Pr(>F)      \n",
       "(Intercept)        715.3286401 1   98.0000 7.934999e-47\n",
       "aSNR.fs            174.2420042 1   98.0000 1.807118e-23\n",
       "zrho_cond            0.5045418 1   98.0000 4.791982e-01\n",
       "rho01.fs           219.9621169 2  131.5589 1.097487e-42\n",
       "aSNR.fs:zrho_cond    2.8606767 1   98.0000 9.394715e-02\n",
       "zrho_cond:rho01.fs  81.0443766 2  131.5589 1.154231e-23"
      ]
     },
     "metadata": {},
     "output_type": "display_data"
    }
   ],
   "source": [
    "Anova(rt.lm.1nc,test.statistic = \"F\",type=\"III\")"
   ]
  },
  {
   "cell_type": "markdown",
   "id": "87647339",
   "metadata": {},
   "source": [
    "# Error trials"
   ]
  },
  {
   "cell_type": "code",
   "execution_count": 12,
   "id": "12a0ef10",
   "metadata": {},
   "outputs": [
    {
     "data": {
      "text/html": [
       "<table class=\"dataframe\">\n",
       "<caption>A data.frame: 6 × 14</caption>\n",
       "<thead>\n",
       "\t<tr><th></th><th scope=col>trial</th><th scope=col>subject</th><th scope=col>rho</th><th scope=col>mu</th><th scope=col>RT</th><th scope=col>response</th><th scope=col>correct</th><th scope=col>SNRraw</th><th scope=col>threshold</th><th scope=col>rho_cond</th><th scope=col>SNR</th><th scope=col>uSNR</th><th scope=col>aSNR</th><th scope=col>rho01</th></tr>\n",
       "\t<tr><th></th><th scope=col>&lt;int&gt;</th><th scope=col>&lt;chr&gt;</th><th scope=col>&lt;dbl&gt;</th><th scope=col>&lt;dbl&gt;</th><th scope=col>&lt;dbl&gt;</th><th scope=col>&lt;dbl&gt;</th><th scope=col>&lt;dbl&gt;</th><th scope=col>&lt;dbl&gt;</th><th scope=col>&lt;dbl&gt;</th><th scope=col>&lt;dbl&gt;</th><th scope=col>&lt;dbl&gt;</th><th scope=col>&lt;dbl&gt;</th><th scope=col>&lt;dbl&gt;</th><th scope=col>&lt;dbl&gt;</th></tr>\n",
       "</thead>\n",
       "<tbody>\n",
       "\t<tr><th scope=row>19</th><td>19</td><td>5f3ee36d0306de1a411882a5</td><td>-0.2</td><td>-0.01690</td><td>3.6533</td><td>1</td><td>0</td><td>-0.1428050</td><td>0.3569007</td><td>0.2</td><td>-0.14</td><td>-0.1480</td><td>0.1480</td><td>-1</td></tr>\n",
       "\t<tr><th scope=row>20</th><td>20</td><td>5f3ee36d0306de1a411882a5</td><td>-0.2</td><td>-0.04224</td><td>2.5721</td><td>1</td><td>0</td><td>-0.8921088</td><td>0.3569007</td><td>0.2</td><td>-0.89</td><td>-0.9239</td><td>0.9239</td><td>-1</td></tr>\n",
       "\t<tr><th scope=row>21</th><td>21</td><td>5f3ee36d0306de1a411882a5</td><td> 0.0</td><td>-0.01889</td><td>3.4319</td><td>1</td><td>0</td><td>-0.1427328</td><td>0.3569007</td><td>0.2</td><td>-0.14</td><td>-0.1480</td><td>0.1480</td><td> 0</td></tr>\n",
       "\t<tr><th scope=row>24</th><td>24</td><td>5f3ee36d0306de1a411882a5</td><td> 0.0</td><td> 0.01889</td><td>2.8611</td><td>0</td><td>0</td><td> 0.1427328</td><td>0.3569007</td><td>0.2</td><td> 0.14</td><td> 0.1480</td><td>0.1480</td><td> 0</td></tr>\n",
       "\t<tr><th scope=row>28</th><td>28</td><td>5f3ee36d0306de1a411882a5</td><td>-0.2</td><td> 0.01690</td><td>3.4015</td><td>0</td><td>0</td><td> 0.1428050</td><td>0.3569007</td><td>0.2</td><td> 0.14</td><td> 0.1480</td><td>0.1480</td><td>-1</td></tr>\n",
       "\t<tr><th scope=row>32</th><td>32</td><td>5f3ee36d0306de1a411882a5</td><td> 0.0</td><td>-0.01889</td><td>5.1892</td><td>1</td><td>0</td><td>-0.1427328</td><td>0.3569007</td><td>0.2</td><td>-0.14</td><td>-0.1480</td><td>0.1480</td><td> 0</td></tr>\n",
       "</tbody>\n",
       "</table>\n"
      ],
      "text/latex": [
       "A data.frame: 6 × 14\n",
       "\\begin{tabular}{r|llllllllllllll}\n",
       "  & trial & subject & rho & mu & RT & response & correct & SNRraw & threshold & rho\\_cond & SNR & uSNR & aSNR & rho01\\\\\n",
       "  & <int> & <chr> & <dbl> & <dbl> & <dbl> & <dbl> & <dbl> & <dbl> & <dbl> & <dbl> & <dbl> & <dbl> & <dbl> & <dbl>\\\\\n",
       "\\hline\n",
       "\t19 & 19 & 5f3ee36d0306de1a411882a5 & -0.2 & -0.01690 & 3.6533 & 1 & 0 & -0.1428050 & 0.3569007 & 0.2 & -0.14 & -0.1480 & 0.1480 & -1\\\\\n",
       "\t20 & 20 & 5f3ee36d0306de1a411882a5 & -0.2 & -0.04224 & 2.5721 & 1 & 0 & -0.8921088 & 0.3569007 & 0.2 & -0.89 & -0.9239 & 0.9239 & -1\\\\\n",
       "\t21 & 21 & 5f3ee36d0306de1a411882a5 &  0.0 & -0.01889 & 3.4319 & 1 & 0 & -0.1427328 & 0.3569007 & 0.2 & -0.14 & -0.1480 & 0.1480 &  0\\\\\n",
       "\t24 & 24 & 5f3ee36d0306de1a411882a5 &  0.0 &  0.01889 & 2.8611 & 0 & 0 &  0.1427328 & 0.3569007 & 0.2 &  0.14 &  0.1480 & 0.1480 &  0\\\\\n",
       "\t28 & 28 & 5f3ee36d0306de1a411882a5 & -0.2 &  0.01690 & 3.4015 & 0 & 0 &  0.1428050 & 0.3569007 & 0.2 &  0.14 &  0.1480 & 0.1480 & -1\\\\\n",
       "\t32 & 32 & 5f3ee36d0306de1a411882a5 &  0.0 & -0.01889 & 5.1892 & 1 & 0 & -0.1427328 & 0.3569007 & 0.2 & -0.14 & -0.1480 & 0.1480 &  0\\\\\n",
       "\\end{tabular}\n"
      ],
      "text/markdown": [
       "\n",
       "A data.frame: 6 × 14\n",
       "\n",
       "| <!--/--> | trial &lt;int&gt; | subject &lt;chr&gt; | rho &lt;dbl&gt; | mu &lt;dbl&gt; | RT &lt;dbl&gt; | response &lt;dbl&gt; | correct &lt;dbl&gt; | SNRraw &lt;dbl&gt; | threshold &lt;dbl&gt; | rho_cond &lt;dbl&gt; | SNR &lt;dbl&gt; | uSNR &lt;dbl&gt; | aSNR &lt;dbl&gt; | rho01 &lt;dbl&gt; |\n",
       "|---|---|---|---|---|---|---|---|---|---|---|---|---|---|---|\n",
       "| 19 | 19 | 5f3ee36d0306de1a411882a5 | -0.2 | -0.01690 | 3.6533 | 1 | 0 | -0.1428050 | 0.3569007 | 0.2 | -0.14 | -0.1480 | 0.1480 | -1 |\n",
       "| 20 | 20 | 5f3ee36d0306de1a411882a5 | -0.2 | -0.04224 | 2.5721 | 1 | 0 | -0.8921088 | 0.3569007 | 0.2 | -0.89 | -0.9239 | 0.9239 | -1 |\n",
       "| 21 | 21 | 5f3ee36d0306de1a411882a5 |  0.0 | -0.01889 | 3.4319 | 1 | 0 | -0.1427328 | 0.3569007 | 0.2 | -0.14 | -0.1480 | 0.1480 |  0 |\n",
       "| 24 | 24 | 5f3ee36d0306de1a411882a5 |  0.0 |  0.01889 | 2.8611 | 0 | 0 |  0.1427328 | 0.3569007 | 0.2 |  0.14 |  0.1480 | 0.1480 |  0 |\n",
       "| 28 | 28 | 5f3ee36d0306de1a411882a5 | -0.2 |  0.01690 | 3.4015 | 0 | 0 |  0.1428050 | 0.3569007 | 0.2 |  0.14 |  0.1480 | 0.1480 | -1 |\n",
       "| 32 | 32 | 5f3ee36d0306de1a411882a5 |  0.0 | -0.01889 | 5.1892 | 1 | 0 | -0.1427328 | 0.3569007 | 0.2 | -0.14 | -0.1480 | 0.1480 |  0 |\n",
       "\n"
      ],
      "text/plain": [
       "   trial subject                  rho  mu       RT     response correct\n",
       "19 19    5f3ee36d0306de1a411882a5 -0.2 -0.01690 3.6533 1        0      \n",
       "20 20    5f3ee36d0306de1a411882a5 -0.2 -0.04224 2.5721 1        0      \n",
       "21 21    5f3ee36d0306de1a411882a5  0.0 -0.01889 3.4319 1        0      \n",
       "24 24    5f3ee36d0306de1a411882a5  0.0  0.01889 2.8611 0        0      \n",
       "28 28    5f3ee36d0306de1a411882a5 -0.2  0.01690 3.4015 0        0      \n",
       "32 32    5f3ee36d0306de1a411882a5  0.0 -0.01889 5.1892 1        0      \n",
       "   SNRraw     threshold rho_cond SNR   uSNR    aSNR   rho01\n",
       "19 -0.1428050 0.3569007 0.2      -0.14 -0.1480 0.1480 -1   \n",
       "20 -0.8921088 0.3569007 0.2      -0.89 -0.9239 0.9239 -1   \n",
       "21 -0.1427328 0.3569007 0.2      -0.14 -0.1480 0.1480  0   \n",
       "24  0.1427328 0.3569007 0.2       0.14  0.1480 0.1480  0   \n",
       "28  0.1428050 0.3569007 0.2       0.14  0.1480 0.1480 -1   \n",
       "32 -0.1427328 0.3569007 0.2      -0.14 -0.1480 0.1480  0   "
      ]
     },
     "metadata": {},
     "output_type": "display_data"
    }
   ],
   "source": [
    "## Error RT only\n",
    "pt_dfe <- subset(pt_df,correct==0)\n",
    "head(pt_dfe)"
   ]
  },
  {
   "cell_type": "code",
   "execution_count": 13,
   "id": "309c800f",
   "metadata": {},
   "outputs": [
    {
     "name": "stderr",
     "output_type": "stream",
     "text": [
      "\u001b[1m\u001b[22m`summarise()` has grouped output by 'subject', 'rho_cond', 'rho01', 'aSNR'. You\n",
      "can override using the `.groups` argument.\n"
     ]
    },
    {
     "data": {
      "text/html": [
       "<table class=\"dataframe\">\n",
       "<caption>A grouped_df: 6 × 6</caption>\n",
       "<thead>\n",
       "\t<tr><th scope=col>subject</th><th scope=col>rho_cond</th><th scope=col>rho01</th><th scope=col>aSNR</th><th scope=col>uSNR</th><th scope=col>RT</th></tr>\n",
       "\t<tr><th scope=col>&lt;chr&gt;</th><th scope=col>&lt;dbl&gt;</th><th scope=col>&lt;dbl&gt;</th><th scope=col>&lt;dbl&gt;</th><th scope=col>&lt;dbl&gt;</th><th scope=col>&lt;dbl&gt;</th></tr>\n",
       "</thead>\n",
       "<tbody>\n",
       "\t<tr><td>575f387c91f8b40006c332e1</td><td>0.4</td><td>-1</td><td>0.1480</td><td>-0.1480</td><td>2.66340</td></tr>\n",
       "\t<tr><td>575f387c91f8b40006c332e1</td><td>0.4</td><td>-1</td><td>0.1480</td><td> 0.1480</td><td>2.35460</td></tr>\n",
       "\t<tr><td>575f387c91f8b40006c332e1</td><td>0.4</td><td>-1</td><td>0.9239</td><td>-0.9239</td><td>3.15000</td></tr>\n",
       "\t<tr><td>575f387c91f8b40006c332e1</td><td>0.4</td><td>-1</td><td>0.9239</td><td> 0.9239</td><td>1.04430</td></tr>\n",
       "\t<tr><td>575f387c91f8b40006c332e1</td><td>0.4</td><td> 0</td><td>0.1480</td><td>-0.1480</td><td>2.88465</td></tr>\n",
       "\t<tr><td>575f387c91f8b40006c332e1</td><td>0.4</td><td> 0</td><td>0.1480</td><td> 0.1480</td><td>3.70250</td></tr>\n",
       "</tbody>\n",
       "</table>\n"
      ],
      "text/latex": [
       "A grouped\\_df: 6 × 6\n",
       "\\begin{tabular}{llllll}\n",
       " subject & rho\\_cond & rho01 & aSNR & uSNR & RT\\\\\n",
       " <chr> & <dbl> & <dbl> & <dbl> & <dbl> & <dbl>\\\\\n",
       "\\hline\n",
       "\t 575f387c91f8b40006c332e1 & 0.4 & -1 & 0.1480 & -0.1480 & 2.66340\\\\\n",
       "\t 575f387c91f8b40006c332e1 & 0.4 & -1 & 0.1480 &  0.1480 & 2.35460\\\\\n",
       "\t 575f387c91f8b40006c332e1 & 0.4 & -1 & 0.9239 & -0.9239 & 3.15000\\\\\n",
       "\t 575f387c91f8b40006c332e1 & 0.4 & -1 & 0.9239 &  0.9239 & 1.04430\\\\\n",
       "\t 575f387c91f8b40006c332e1 & 0.4 &  0 & 0.1480 & -0.1480 & 2.88465\\\\\n",
       "\t 575f387c91f8b40006c332e1 & 0.4 &  0 & 0.1480 &  0.1480 & 3.70250\\\\\n",
       "\\end{tabular}\n"
      ],
      "text/markdown": [
       "\n",
       "A grouped_df: 6 × 6\n",
       "\n",
       "| subject &lt;chr&gt; | rho_cond &lt;dbl&gt; | rho01 &lt;dbl&gt; | aSNR &lt;dbl&gt; | uSNR &lt;dbl&gt; | RT &lt;dbl&gt; |\n",
       "|---|---|---|---|---|---|\n",
       "| 575f387c91f8b40006c332e1 | 0.4 | -1 | 0.1480 | -0.1480 | 2.66340 |\n",
       "| 575f387c91f8b40006c332e1 | 0.4 | -1 | 0.1480 |  0.1480 | 2.35460 |\n",
       "| 575f387c91f8b40006c332e1 | 0.4 | -1 | 0.9239 | -0.9239 | 3.15000 |\n",
       "| 575f387c91f8b40006c332e1 | 0.4 | -1 | 0.9239 |  0.9239 | 1.04430 |\n",
       "| 575f387c91f8b40006c332e1 | 0.4 |  0 | 0.1480 | -0.1480 | 2.88465 |\n",
       "| 575f387c91f8b40006c332e1 | 0.4 |  0 | 0.1480 |  0.1480 | 3.70250 |\n",
       "\n"
      ],
      "text/plain": [
       "  subject                  rho_cond rho01 aSNR   uSNR    RT     \n",
       "1 575f387c91f8b40006c332e1 0.4      -1    0.1480 -0.1480 2.66340\n",
       "2 575f387c91f8b40006c332e1 0.4      -1    0.1480  0.1480 2.35460\n",
       "3 575f387c91f8b40006c332e1 0.4      -1    0.9239 -0.9239 3.15000\n",
       "4 575f387c91f8b40006c332e1 0.4      -1    0.9239  0.9239 1.04430\n",
       "5 575f387c91f8b40006c332e1 0.4       0    0.1480 -0.1480 2.88465\n",
       "6 575f387c91f8b40006c332e1 0.4       0    0.1480  0.1480 3.70250"
      ]
     },
     "metadata": {},
     "output_type": "display_data"
    },
    {
     "name": "stderr",
     "output_type": "stream",
     "text": [
      "Warning message in eval(expr, envir, enclos):\n",
      "“Incorrect number of data points detected! Did some Ss have perfect performance in some conds?”\n"
     ]
    },
    {
     "name": "stdout",
     "output_type": "stream",
     "text": [
      "1155 of 1200, diff: 45"
     ]
    },
    {
     "name": "stderr",
     "output_type": "stream",
     "text": [
      "\u001b[1m\u001b[22m`summarise()` has grouped output by 'subject', 'rho_cond', 'rho01', 'aSNR'. You\n",
      "can override using the `.groups` argument.\n"
     ]
    },
    {
     "data": {
      "text/html": [
       "45"
      ],
      "text/latex": [
       "45"
      ],
      "text/markdown": [
       "45"
      ],
      "text/plain": [
       "[1] 45"
      ]
     },
     "metadata": {},
     "output_type": "display_data"
    }
   ],
   "source": [
    "## compute medians for analysis \n",
    "pt_dfe.med <- summarise(group_by(pt_dfe,subject,rho_cond,rho01,aSNR,uSNR),RT=median(RT))\n",
    "\n",
    "head(pt_dfe.med)\n",
    "\n",
    "\n",
    "#It looks like some participants didn't have errors in some conditions\n",
    "if (!nrow(pt_dfe.med)==25*4*3*4) {\n",
    "    warning('Incorrect number of data points detected! Did some Ss have perfect performance in some conds?')\n",
    "    cat(sprintf('%d of %d, diff: %d',nrow(pt_dfe.med),25*4*3*4,25*4*3*4-nrow(pt_dfe.med)))\n",
    "    \n",
    "    pt_df_acc <- summarise(group_by(pt_df,subject,rho_cond,rho01,aSNR,uSNR),correct=mean(correct))\n",
    "    head(pt_df_acc)\n",
    "    sum(pt_df_acc$correct==1)\n",
    "}"
   ]
  },
  {
   "cell_type": "code",
   "execution_count": 14,
   "id": "1472a6d3",
   "metadata": {},
   "outputs": [
    {
     "data": {
      "image/png": "[encoded data removed]",
      "text/plain": [
       "Plot with title “Normal Q-Q Plot”"
      ]
     },
     "metadata": {
      "image/png": {
       "height": 420,
       "width": 420
      }
     },
     "output_type": "display_data"
    }
   ],
   "source": [
    "#Median RTs\n",
    "\n",
    "par(mfrow=c(1,2))\n",
    "hist(pt_dfe.med$RT)\n",
    "qqnorm(pt_dfe.med$RT)\n",
    "qqline(pt_dfe.med$RT)\n",
    "par(mfrow=c(1,1))"
   ]
  },
  {
   "cell_type": "code",
   "execution_count": 15,
   "id": "b640e978",
   "metadata": {},
   "outputs": [
    {
     "data": {
      "text/html": [
       "<table class=\"dataframe\">\n",
       "<caption>A grouped_df: 2 × 2</caption>\n",
       "<thead>\n",
       "\t<tr><th scope=col>aSNR</th><th scope=col>aSNR.fs</th></tr>\n",
       "\t<tr><th scope=col>&lt;dbl&gt;</th><th scope=col>&lt;fct&gt;</th></tr>\n",
       "</thead>\n",
       "<tbody>\n",
       "\t<tr><td>0.1480</td><td>l</td></tr>\n",
       "\t<tr><td>0.9239</td><td>h</td></tr>\n",
       "</tbody>\n",
       "</table>\n"
      ],
      "text/latex": [
       "A grouped\\_df: 2 × 2\n",
       "\\begin{tabular}{ll}\n",
       " aSNR & aSNR.fs\\\\\n",
       " <dbl> & <fct>\\\\\n",
       "\\hline\n",
       "\t 0.1480 & l\\\\\n",
       "\t 0.9239 & h\\\\\n",
       "\\end{tabular}\n"
      ],
      "text/markdown": [
       "\n",
       "A grouped_df: 2 × 2\n",
       "\n",
       "| aSNR &lt;dbl&gt; | aSNR.fs &lt;fct&gt; |\n",
       "|---|---|\n",
       "| 0.1480 | l |\n",
       "| 0.9239 | h |\n",
       "\n"
      ],
      "text/plain": [
       "  aSNR   aSNR.fs\n",
       "1 0.1480 l      \n",
       "2 0.9239 h      "
      ]
     },
     "metadata": {},
     "output_type": "display_data"
    },
    {
     "data": {
      "text/html": [
       "<table class=\"dataframe\">\n",
       "<caption>A matrix: 2 × 1 of type dbl</caption>\n",
       "<tbody>\n",
       "\t<tr><th scope=row>l</th><td> 1</td></tr>\n",
       "\t<tr><th scope=row>h</th><td>-1</td></tr>\n",
       "</tbody>\n",
       "</table>\n"
      ],
      "text/latex": [
       "A matrix: 2 × 1 of type dbl\n",
       "\\begin{tabular}{r|l}\n",
       "\tl &  1\\\\\n",
       "\th & -1\\\\\n",
       "\\end{tabular}\n"
      ],
      "text/markdown": [
       "\n",
       "A matrix: 2 × 1 of type dbl\n",
       "\n",
       "| l |  1 |\n",
       "| h | -1 |\n",
       "\n"
      ],
      "text/plain": [
       "  [,1]\n",
       "l  1  \n",
       "h -1  "
      ]
     },
     "metadata": {},
     "output_type": "display_data"
    },
    {
     "data": {
      "text/html": [
       "<table class=\"dataframe\">\n",
       "<caption>A grouped_df: 3 × 2</caption>\n",
       "<thead>\n",
       "\t<tr><th scope=col>rho01</th><th scope=col>rho01.fs</th></tr>\n",
       "\t<tr><th scope=col>&lt;dbl&gt;</th><th scope=col>&lt;fct&gt;</th></tr>\n",
       "</thead>\n",
       "<tbody>\n",
       "\t<tr><td>-1</td><td>n</td></tr>\n",
       "\t<tr><td> 0</td><td>0</td></tr>\n",
       "\t<tr><td> 1</td><td>p</td></tr>\n",
       "</tbody>\n",
       "</table>\n"
      ],
      "text/latex": [
       "A grouped\\_df: 3 × 2\n",
       "\\begin{tabular}{ll}\n",
       " rho01 & rho01.fs\\\\\n",
       " <dbl> & <fct>\\\\\n",
       "\\hline\n",
       "\t -1 & n\\\\\n",
       "\t  0 & 0\\\\\n",
       "\t  1 & p\\\\\n",
       "\\end{tabular}\n"
      ],
      "text/markdown": [
       "\n",
       "A grouped_df: 3 × 2\n",
       "\n",
       "| rho01 &lt;dbl&gt; | rho01.fs &lt;fct&gt; |\n",
       "|---|---|\n",
       "| -1 | n |\n",
       "|  0 | 0 |\n",
       "|  1 | p |\n",
       "\n"
      ],
      "text/plain": [
       "  rho01 rho01.fs\n",
       "1 -1    n       \n",
       "2  0    0       \n",
       "3  1    p       "
      ]
     },
     "metadata": {},
     "output_type": "display_data"
    },
    {
     "data": {
      "text/html": [
       "<table class=\"dataframe\">\n",
       "<caption>A matrix: 3 × 2 of type dbl</caption>\n",
       "<tbody>\n",
       "\t<tr><th scope=row>p</th><td> 1</td><td> 0</td></tr>\n",
       "\t<tr><th scope=row>n</th><td> 0</td><td> 1</td></tr>\n",
       "\t<tr><th scope=row>0</th><td>-1</td><td>-1</td></tr>\n",
       "</tbody>\n",
       "</table>\n"
      ],
      "text/latex": [
       "A matrix: 3 × 2 of type dbl\n",
       "\\begin{tabular}{r|ll}\n",
       "\tp &  1 &  0\\\\\n",
       "\tn &  0 &  1\\\\\n",
       "\t0 & -1 & -1\\\\\n",
       "\\end{tabular}\n"
      ],
      "text/markdown": [
       "\n",
       "A matrix: 3 × 2 of type dbl\n",
       "\n",
       "| p |  1 |  0 |\n",
       "| n |  0 |  1 |\n",
       "| 0 | -1 | -1 |\n",
       "\n"
      ],
      "text/plain": [
       "  [,1] [,2]\n",
       "p  1    0  \n",
       "n  0    1  \n",
       "0 -1   -1  "
      ]
     },
     "metadata": {},
     "output_type": "display_data"
    },
    {
     "data": {
      "text/html": [
       "<table class=\"dataframe\">\n",
       "<caption>A grouped_df: 4 × 2</caption>\n",
       "<thead>\n",
       "\t<tr><th scope=col>rho_cond</th><th scope=col>zrho_cond</th></tr>\n",
       "\t<tr><th scope=col>&lt;dbl&gt;</th><th scope=col>&lt;dbl[,1]&gt;</th></tr>\n",
       "</thead>\n",
       "<tbody>\n",
       "\t<tr><td>0.4</td><td>-0.4398531</td></tr>\n",
       "\t<tr><td>0.8</td><td> 1.3427093</td></tr>\n",
       "\t<tr><td>0.6</td><td> 0.4514281</td></tr>\n",
       "\t<tr><td>0.2</td><td>-1.3311342</td></tr>\n",
       "</tbody>\n",
       "</table>\n"
      ],
      "text/latex": [
       "A grouped\\_df: 4 × 2\n",
       "\\begin{tabular}{ll}\n",
       " rho\\_cond & zrho\\_cond\\\\\n",
       " <dbl> & <dbl{[},1{]}>\\\\\n",
       "\\hline\n",
       "\t 0.4 & -0.4398531\\\\\n",
       "\t 0.8 &  1.3427093\\\\\n",
       "\t 0.6 &  0.4514281\\\\\n",
       "\t 0.2 & -1.3311342\\\\\n",
       "\\end{tabular}\n"
      ],
      "text/markdown": [
       "\n",
       "A grouped_df: 4 × 2\n",
       "\n",
       "| rho_cond &lt;dbl&gt; | zrho_cond &lt;dbl[,1]&gt; |\n",
       "|---|---|\n",
       "| 0.4 | -0.4398531 |\n",
       "| 0.8 |  1.3427093 |\n",
       "| 0.6 |  0.4514281 |\n",
       "| 0.2 | -1.3311342 |\n",
       "\n"
      ],
      "text/plain": [
       "  rho_cond zrho_cond \n",
       "1 0.4      -0.4398531\n",
       "2 0.8       1.3427093\n",
       "3 0.6       0.4514281\n",
       "4 0.2      -1.3311342"
      ]
     },
     "metadata": {},
     "output_type": "display_data"
    }
   ],
   "source": [
    "#set up factors\n",
    "pt_dfe.med$aSNR.fs <- factor(pt_dfe.med$aSNR,labels=c(\"l\",\"h\"))\n",
    "unique(pt_dfe.med[,c('aSNR','aSNR.fs')])\n",
    "contrasts(pt_dfe.med$aSNR.fs) <- contr.sum(2)\n",
    "contrasts(pt_dfe.med$aSNR.fs)\n",
    "\n",
    "pt_dfe.med$rho01.fs <- factor(pt_dfe.med$rho01,levels=c(1,-1,0),labels=c(\"p\",\"n\",\"0\"))\n",
    "unique(pt_dfe.med[,c('rho01','rho01.fs')])\n",
    "contrasts(pt_dfe.med$rho01.fs) <- contr.sum(3)\n",
    "contrasts(pt_dfe.med$rho01.fs)\n",
    "\n",
    "#set up variables\n",
    "#pt_dfe.med$zaSNR <- scale(pt_dfe.med$aSNR)\n",
    "pt_dfe.med$zrho_cond <- scale(pt_dfe.med$rho_cond)\n",
    "\n",
    "unique(pt_dfe.med[,c('rho_cond','zrho_cond')])"
   ]
  },
  {
   "cell_type": "code",
   "execution_count": 16,
   "id": "ee6c0b03",
   "metadata": {},
   "outputs": [
    {
     "data": {
      "text/html": [
       "<table class=\"dataframe\">\n",
       "<caption>A tibble: 2 × 2</caption>\n",
       "<thead>\n",
       "\t<tr><th scope=col>aSNR.fs</th><th scope=col>aSNR.fs1</th></tr>\n",
       "\t<tr><th scope=col>&lt;fct&gt;</th><th scope=col>&lt;dbl&gt;</th></tr>\n",
       "</thead>\n",
       "<tbody>\n",
       "\t<tr><td>l</td><td> 1</td></tr>\n",
       "\t<tr><td>h</td><td>-1</td></tr>\n",
       "</tbody>\n",
       "</table>\n"
      ],
      "text/latex": [
       "A tibble: 2 × 2\n",
       "\\begin{tabular}{ll}\n",
       " aSNR.fs & aSNR.fs1\\\\\n",
       " <fct> & <dbl>\\\\\n",
       "\\hline\n",
       "\t l &  1\\\\\n",
       "\t h & -1\\\\\n",
       "\\end{tabular}\n"
      ],
      "text/markdown": [
       "\n",
       "A tibble: 2 × 2\n",
       "\n",
       "| aSNR.fs &lt;fct&gt; | aSNR.fs1 &lt;dbl&gt; |\n",
       "|---|---|\n",
       "| l |  1 |\n",
       "| h | -1 |\n",
       "\n"
      ],
      "text/plain": [
       "  aSNR.fs aSNR.fs1\n",
       "1 l        1      \n",
       "2 h       -1      "
      ]
     },
     "metadata": {},
     "output_type": "display_data"
    },
    {
     "data": {
      "text/html": [
       "<table class=\"dataframe\">\n",
       "<caption>A tibble: 3 × 3</caption>\n",
       "<thead>\n",
       "\t<tr><th scope=col>rho01.fs</th><th scope=col>rho01.fs1</th><th scope=col>rho01.fs2</th></tr>\n",
       "\t<tr><th scope=col>&lt;fct&gt;</th><th scope=col>&lt;dbl&gt;</th><th scope=col>&lt;dbl&gt;</th></tr>\n",
       "</thead>\n",
       "<tbody>\n",
       "\t<tr><td>n</td><td> 0</td><td> 1</td></tr>\n",
       "\t<tr><td>0</td><td>-1</td><td>-1</td></tr>\n",
       "\t<tr><td>p</td><td> 1</td><td> 0</td></tr>\n",
       "</tbody>\n",
       "</table>\n"
      ],
      "text/latex": [
       "A tibble: 3 × 3\n",
       "\\begin{tabular}{lll}\n",
       " rho01.fs & rho01.fs1 & rho01.fs2\\\\\n",
       " <fct> & <dbl> & <dbl>\\\\\n",
       "\\hline\n",
       "\t n &  0 &  1\\\\\n",
       "\t 0 & -1 & -1\\\\\n",
       "\t p &  1 &  0\\\\\n",
       "\\end{tabular}\n"
      ],
      "text/markdown": [
       "\n",
       "A tibble: 3 × 3\n",
       "\n",
       "| rho01.fs &lt;fct&gt; | rho01.fs1 &lt;dbl&gt; | rho01.fs2 &lt;dbl&gt; |\n",
       "|---|---|---|\n",
       "| n |  0 |  1 |\n",
       "| 0 | -1 | -1 |\n",
       "| p |  1 |  0 |\n",
       "\n"
      ],
      "text/plain": [
       "  rho01.fs rho01.fs1 rho01.fs2\n",
       "1 n         0         1       \n",
       "2 0        -1        -1       \n",
       "3 p         1         0       "
      ]
     },
     "metadata": {},
     "output_type": "display_data"
    }
   ],
   "source": [
    "#set factors for random effects\n",
    "\n",
    "pt_dfe.med[,c('aSNR.fs1')] <- \n",
    "  model.matrix(~1+pt_dfe.med$aSNR.fs,pt_dfe.med)[,2]\n",
    "pt_dfe.med[,c('rho01.fs1','rho01.fs2')] <- \n",
    "  model.matrix(~1+pt_dfe.med$rho01.fs,pt_dfe.med)[,2:3]\n",
    "\n",
    "unique(pt_dfe.med[,c('aSNR.fs','aSNR.fs1')])\n",
    "unique(pt_dfe.med[,c('rho01.fs','rho01.fs1','rho01.fs2')])"
   ]
  },
  {
   "cell_type": "markdown",
   "id": "bd5c8276",
   "metadata": {},
   "source": [
    "## fit x rho cond"
   ]
  },
  {
   "cell_type": "code",
   "execution_count": 17,
   "id": "3d8617d4",
   "metadata": {},
   "outputs": [
    {
     "name": "stderr",
     "output_type": "stream",
     "text": [
      "boundary (singular) fit: see help('isSingular')\n",
      "\n"
     ]
    }
   ],
   "source": [
    "#now let's allow to vary by rho cond\n",
    "rt.lm.1ne <- lmer(RT~aSNR.fs*zrho_cond + rho01.fs*zrho_cond + \n",
    "                  (1 + aSNR.fs1 + rho01.fs1 + rho01.fs2||subject), \n",
    "                 data=pt_dfe.med, \n",
    "                 control=lmerControl(optimizer=\"bobyqa\",optCtrl=list(maxfun=2e5)))"
   ]
  },
  {
   "cell_type": "code",
   "execution_count": 18,
   "id": "520812be",
   "metadata": {},
   "outputs": [
    {
     "data": {
      "text/plain": [
       "$subject\n",
       "Standard deviations (1, .., p=4):\n",
       "[1] 1.143107e+00 1.297829e-01 1.745793e-08 0.000000e+00\n",
       "\n",
       "Rotation (n x k) = (4 x 4):\n",
       "     [,1] [,2] [,3] [,4]\n",
       "[1,]    1    0    0    0\n",
       "[2,]    0    0    0    1\n",
       "[3,]    0    0    1    0\n",
       "[4,]    0    1    0    0\n",
       "\n",
       "attr(,\"class\")\n",
       "[1] \"prcomplist\""
      ]
     },
     "metadata": {},
     "output_type": "display_data"
    }
   ],
   "source": [
    "rePCA(rt.lm.1ne)"
   ]
  },
  {
   "cell_type": "code",
   "execution_count": 19,
   "id": "4d9a881e",
   "metadata": {},
   "outputs": [
    {
     "data": {
      "text/plain": [
       "Linear mixed model fit by REML. t-tests use Satterthwaite's method [\n",
       "lmerModLmerTest]\n",
       "Formula: RT ~ aSNR.fs * zrho_cond + rho01.fs * zrho_cond + (1 + aSNR.fs1 +  \n",
       "    rho01.fs1 + rho01.fs2 || subject)\n",
       "   Data: pt_dfe.med\n",
       "Control: lmerControl(optimizer = \"bobyqa\", optCtrl = list(maxfun = 2e+05))\n",
       "\n",
       "REML criterion at convergence: 3256.5\n",
       "\n",
       "Scaled residuals: \n",
       "    Min      1Q  Median      3Q     Max \n",
       "-4.0935 -0.4219 -0.0938  0.2990  8.3630 \n",
       "\n",
       "Random effects:\n",
       " Groups    Name        Variance  Std.Dev. \n",
       " subject   (Intercept) 9.744e-01 9.871e-01\n",
       " subject.1 aSNR.fs1    0.000e+00 0.000e+00\n",
       " subject.2 rho01.fs1   2.273e-16 1.508e-08\n",
       " subject.3 rho01.fs2   1.256e-02 1.121e-01\n",
       " Residual              7.457e-01 8.635e-01\n",
       "Number of obs: 1155, groups:  subject, 100\n",
       "\n",
       "Fixed effects:\n",
       "                     Estimate Std. Error        df t value Pr(>|t|)    \n",
       "(Intercept)           2.37748    0.10196  97.55301  23.318  < 2e-16 ***\n",
       "aSNR.fs1              0.11187    0.02552 949.57136   4.383 1.30e-05 ***\n",
       "zrho_cond             0.05229    0.10229  97.46432   0.511  0.61036    \n",
       "rho01.fs1            -0.28205    0.03600 943.42934  -7.835 1.26e-14 ***\n",
       "rho01.fs2             0.38594    0.03755 138.29770  10.278  < 2e-16 ***\n",
       "aSNR.fs1:zrho_cond    0.02568    0.02552 946.65780   1.006  0.31460    \n",
       "zrho_cond:rho01.fs1  -0.10529    0.03594 942.10898  -2.929  0.00348 ** \n",
       "zrho_cond:rho01.fs2   0.19434    0.03757 136.95295   5.172 8.04e-07 ***\n",
       "---\n",
       "Signif. codes:  0 ‘***’ 0.001 ‘**’ 0.01 ‘*’ 0.05 ‘.’ 0.1 ‘ ’ 1\n",
       "\n",
       "Correlation of Fixed Effects:\n",
       "            (Intr) aSNR.f1 zrh_cn rh01.1 rh01.2 aSNR.1: z_:01.1\n",
       "aSNR.fs1    -0.012                                             \n",
       "zrho_cond   -0.005 -0.002                                      \n",
       "rho01.fs1    0.000 -0.002   0.001                              \n",
       "rho01.fs2   -0.004  0.015  -0.002 -0.471                       \n",
       "aSNR.fs1:z_ -0.002  0.002  -0.010 -0.002  0.007                \n",
       "zrh_cn:01.1  0.001 -0.002  -0.001  0.002  0.002  0.003         \n",
       "zrh_cn:01.2 -0.002  0.007  -0.003  0.002 -0.004  0.013  -0.469 \n",
       "optimizer (bobyqa) convergence code: 0 (OK)\n",
       "boundary (singular) fit: see help('isSingular')\n"
      ]
     },
     "metadata": {},
     "output_type": "display_data"
    }
   ],
   "source": [
    "summary(rt.lm.1ne)"
   ]
  },
  {
   "cell_type": "code",
   "execution_count": 20,
   "id": "a91e6525",
   "metadata": {},
   "outputs": [
    {
     "name": "stderr",
     "output_type": "stream",
     "text": [
      "boundary (singular) fit: see help('isSingular')\n",
      "\n"
     ]
    }
   ],
   "source": [
    "#refit w/o aSNR rfx to fix singularity\n",
    "rt.lm.2ne <- lmer(RT~aSNR.fs*zrho_cond + rho01.fs*zrho_cond + \n",
    "                  (1 + rho01.fs1 + rho01.fs2||subject), \n",
    "                 data=pt_dfe.med, \n",
    "                 control=lmerControl(optimizer=\"bobyqa\",optCtrl=list(maxfun=2e5)))"
   ]
  },
  {
   "cell_type": "code",
   "execution_count": 21,
   "id": "7b530de2",
   "metadata": {},
   "outputs": [
    {
     "data": {
      "text/plain": [
       "Linear mixed model fit by REML. t-tests use Satterthwaite's method [\n",
       "lmerModLmerTest]\n",
       "Formula: RT ~ aSNR.fs * zrho_cond + rho01.fs * zrho_cond + (1 + rho01.fs1 +  \n",
       "    rho01.fs2 || subject)\n",
       "   Data: pt_dfe.med\n",
       "Control: lmerControl(optimizer = \"bobyqa\", optCtrl = list(maxfun = 2e+05))\n",
       "\n",
       "REML criterion at convergence: 3256.5\n",
       "\n",
       "Scaled residuals: \n",
       "    Min      1Q  Median      3Q     Max \n",
       "-4.0935 -0.4219 -0.0938  0.2990  8.3630 \n",
       "\n",
       "Random effects:\n",
       " Groups    Name        Variance Std.Dev.\n",
       " subject   (Intercept) 0.97437  0.9871  \n",
       " subject.1 rho01.fs1   0.00000  0.0000  \n",
       " subject.2 rho01.fs2   0.01256  0.1121  \n",
       " Residual              0.74568  0.8635  \n",
       "Number of obs: 1155, groups:  subject, 100\n",
       "\n",
       "Fixed effects:\n",
       "                     Estimate Std. Error        df t value Pr(>|t|)    \n",
       "(Intercept)           2.37748    0.10196  97.55303  23.318  < 2e-16 ***\n",
       "aSNR.fs1              0.11187    0.02552 949.57128   4.383 1.30e-05 ***\n",
       "zrho_cond             0.05229    0.10229  97.46434   0.511  0.61036    \n",
       "rho01.fs1            -0.28205    0.03600 943.42926  -7.835 1.26e-14 ***\n",
       "rho01.fs2             0.38594    0.03755 138.29766  10.278  < 2e-16 ***\n",
       "aSNR.fs1:zrho_cond    0.02568    0.02552 946.65772   1.006  0.31460    \n",
       "zrho_cond:rho01.fs1  -0.10529    0.03594 942.10890  -2.929  0.00348 ** \n",
       "zrho_cond:rho01.fs2   0.19434    0.03757 136.95291   5.172 8.04e-07 ***\n",
       "---\n",
       "Signif. codes:  0 ‘***’ 0.001 ‘**’ 0.01 ‘*’ 0.05 ‘.’ 0.1 ‘ ’ 1\n",
       "\n",
       "Correlation of Fixed Effects:\n",
       "            (Intr) aSNR.f1 zrh_cn rh01.1 rh01.2 aSNR.1: z_:01.1\n",
       "aSNR.fs1    -0.012                                             \n",
       "zrho_cond   -0.005 -0.002                                      \n",
       "rho01.fs1    0.000 -0.002   0.001                              \n",
       "rho01.fs2   -0.004  0.015  -0.002 -0.471                       \n",
       "aSNR.fs1:z_ -0.002  0.002  -0.010 -0.002  0.007                \n",
       "zrh_cn:01.1  0.001 -0.002  -0.001  0.002  0.002  0.003         \n",
       "zrh_cn:01.2 -0.002  0.007  -0.003  0.002 -0.004  0.013  -0.469 \n",
       "optimizer (bobyqa) convergence code: 0 (OK)\n",
       "boundary (singular) fit: see help('isSingular')\n"
      ]
     },
     "metadata": {},
     "output_type": "display_data"
    }
   ],
   "source": [
    "summary(rt.lm.2ne)"
   ]
  },
  {
   "cell_type": "code",
   "execution_count": 22,
   "id": "7784c03a",
   "metadata": {},
   "outputs": [],
   "source": [
    "#also drop rho01.fs1\n",
    "rt.lm.3ne <- lmer(RT~aSNR.fs*zrho_cond + rho01.fs*zrho_cond + \n",
    "                  (1 + rho01.fs2||subject), \n",
    "                 data=pt_dfe.med, \n",
    "                 control=lmerControl(optimizer=\"bobyqa\",optCtrl=list(maxfun=2e5)))"
   ]
  },
  {
   "cell_type": "code",
   "execution_count": 23,
   "id": "db27bf86",
   "metadata": {},
   "outputs": [
    {
     "data": {
      "text/plain": [
       "Linear mixed model fit by REML. t-tests use Satterthwaite's method [\n",
       "lmerModLmerTest]\n",
       "Formula: RT ~ aSNR.fs * zrho_cond + rho01.fs * zrho_cond + (1 + rho01.fs2 ||  \n",
       "    subject)\n",
       "   Data: pt_dfe.med\n",
       "Control: lmerControl(optimizer = \"bobyqa\", optCtrl = list(maxfun = 2e+05))\n",
       "\n",
       "REML criterion at convergence: 3256.5\n",
       "\n",
       "Scaled residuals: \n",
       "    Min      1Q  Median      3Q     Max \n",
       "-4.0935 -0.4219 -0.0938  0.2990  8.3630 \n",
       "\n",
       "Random effects:\n",
       " Groups    Name        Variance Std.Dev.\n",
       " subject   (Intercept) 0.97437  0.9871  \n",
       " subject.1 rho01.fs2   0.01256  0.1121  \n",
       " Residual              0.74568  0.8635  \n",
       "Number of obs: 1155, groups:  subject, 100\n",
       "\n",
       "Fixed effects:\n",
       "                     Estimate Std. Error        df t value Pr(>|t|)    \n",
       "(Intercept)           2.37748    0.10196  97.55303  23.318  < 2e-16 ***\n",
       "aSNR.fs1              0.11187    0.02552 949.57133   4.383 1.30e-05 ***\n",
       "zrho_cond             0.05229    0.10229  97.46434   0.511  0.61036    \n",
       "rho01.fs1            -0.28205    0.03600 943.42931  -7.835 1.26e-14 ***\n",
       "rho01.fs2             0.38594    0.03755 138.29769  10.278  < 2e-16 ***\n",
       "aSNR.fs1:zrho_cond    0.02568    0.02552 946.65777   1.006  0.31460    \n",
       "zrho_cond:rho01.fs1  -0.10529    0.03594 942.10895  -2.929  0.00348 ** \n",
       "zrho_cond:rho01.fs2   0.19434    0.03757 136.95294   5.172 8.04e-07 ***\n",
       "---\n",
       "Signif. codes:  0 ‘***’ 0.001 ‘**’ 0.01 ‘*’ 0.05 ‘.’ 0.1 ‘ ’ 1\n",
       "\n",
       "Correlation of Fixed Effects:\n",
       "            (Intr) aSNR.f1 zrh_cn rh01.1 rh01.2 aSNR.1: z_:01.1\n",
       "aSNR.fs1    -0.012                                             \n",
       "zrho_cond   -0.005 -0.002                                      \n",
       "rho01.fs1    0.000 -0.002   0.001                              \n",
       "rho01.fs2   -0.004  0.015  -0.002 -0.471                       \n",
       "aSNR.fs1:z_ -0.002  0.002  -0.010 -0.002  0.007                \n",
       "zrh_cn:01.1  0.001 -0.002  -0.001  0.002  0.002  0.003         \n",
       "zrh_cn:01.2 -0.002  0.007  -0.003  0.002 -0.004  0.013  -0.469 "
      ]
     },
     "metadata": {},
     "output_type": "display_data"
    }
   ],
   "source": [
    "summary(rt.lm.3ne)"
   ]
  },
  {
   "cell_type": "code",
   "execution_count": 24,
   "id": "6f24849a",
   "metadata": {},
   "outputs": [
    {
     "data": {
      "text/html": [
       "<table class=\"dataframe\">\n",
       "<caption>A anova: 6 × 4</caption>\n",
       "<thead>\n",
       "\t<tr><th></th><th scope=col>F</th><th scope=col>Df</th><th scope=col>Df.res</th><th scope=col>Pr(&gt;F)</th></tr>\n",
       "\t<tr><th></th><th scope=col>&lt;dbl&gt;</th><th scope=col>&lt;dbl&gt;</th><th scope=col>&lt;dbl&gt;</th><th scope=col>&lt;dbl&gt;</th></tr>\n",
       "</thead>\n",
       "<tbody>\n",
       "\t<tr><th scope=row>(Intercept)</th><td>543.7166906</td><td>1</td><td> 98.02122</td><td>8.828485e-42</td></tr>\n",
       "\t<tr><th scope=row>aSNR.fs</th><td> 19.1996466</td><td>1</td><td> 97.08671</td><td>2.979615e-05</td></tr>\n",
       "\t<tr><th scope=row>zrho_cond</th><td>  0.2613316</td><td>1</td><td> 97.93235</td><td>6.103574e-01</td></tr>\n",
       "\t<tr><th scope=row>rho01.fs</th><td> 58.1974369</td><td>2</td><td>134.56192</td><td>6.146195e-19</td></tr>\n",
       "\t<tr><th scope=row>aSNR.fs:zrho_cond</th><td>  1.0118141</td><td>1</td><td> 95.82551</td><td>3.170019e-01</td></tr>\n",
       "\t<tr><th scope=row>zrho_cond:rho01.fs</th><td> 13.4486139</td><td>2</td><td>133.26813</td><td>4.783921e-06</td></tr>\n",
       "</tbody>\n",
       "</table>\n"
      ],
      "text/latex": [
       "A anova: 6 × 4\n",
       "\\begin{tabular}{r|llll}\n",
       "  & F & Df & Df.res & Pr(>F)\\\\\n",
       "  & <dbl> & <dbl> & <dbl> & <dbl>\\\\\n",
       "\\hline\n",
       "\t(Intercept) & 543.7166906 & 1 &  98.02122 & 8.828485e-42\\\\\n",
       "\taSNR.fs &  19.1996466 & 1 &  97.08671 & 2.979615e-05\\\\\n",
       "\tzrho\\_cond &   0.2613316 & 1 &  97.93235 & 6.103574e-01\\\\\n",
       "\trho01.fs &  58.1974369 & 2 & 134.56192 & 6.146195e-19\\\\\n",
       "\taSNR.fs:zrho\\_cond &   1.0118141 & 1 &  95.82551 & 3.170019e-01\\\\\n",
       "\tzrho\\_cond:rho01.fs &  13.4486139 & 2 & 133.26813 & 4.783921e-06\\\\\n",
       "\\end{tabular}\n"
      ],
      "text/markdown": [
       "\n",
       "A anova: 6 × 4\n",
       "\n",
       "| <!--/--> | F &lt;dbl&gt; | Df &lt;dbl&gt; | Df.res &lt;dbl&gt; | Pr(&gt;F) &lt;dbl&gt; |\n",
       "|---|---|---|---|---|\n",
       "| (Intercept) | 543.7166906 | 1 |  98.02122 | 8.828485e-42 |\n",
       "| aSNR.fs |  19.1996466 | 1 |  97.08671 | 2.979615e-05 |\n",
       "| zrho_cond |   0.2613316 | 1 |  97.93235 | 6.103574e-01 |\n",
       "| rho01.fs |  58.1974369 | 2 | 134.56192 | 6.146195e-19 |\n",
       "| aSNR.fs:zrho_cond |   1.0118141 | 1 |  95.82551 | 3.170019e-01 |\n",
       "| zrho_cond:rho01.fs |  13.4486139 | 2 | 133.26813 | 4.783921e-06 |\n",
       "\n"
      ],
      "text/plain": [
       "                   F           Df Df.res    Pr(>F)      \n",
       "(Intercept)        543.7166906 1   98.02122 8.828485e-42\n",
       "aSNR.fs             19.1996466 1   97.08671 2.979615e-05\n",
       "zrho_cond            0.2613316 1   97.93235 6.103574e-01\n",
       "rho01.fs            58.1974369 2  134.56192 6.146195e-19\n",
       "aSNR.fs:zrho_cond    1.0118141 1   95.82551 3.170019e-01\n",
       "zrho_cond:rho01.fs  13.4486139 2  133.26813 4.783921e-06"
      ]
     },
     "metadata": {},
     "output_type": "display_data"
    },
    {
     "name": "stdout",
     "output_type": "stream",
     "text": [
      "Use me:"
     ]
    },
    {
     "data": {
      "text/html": [
       "<table class=\"dataframe\">\n",
       "<caption>A anova: 6 × 4</caption>\n",
       "<thead>\n",
       "\t<tr><th></th><th scope=col>F</th><th scope=col>Df</th><th scope=col>Df.res</th><th scope=col>Pr(&gt;F)</th></tr>\n",
       "\t<tr><th></th><th scope=col>&lt;dbl&gt;</th><th scope=col>&lt;dbl&gt;</th><th scope=col>&lt;dbl&gt;</th><th scope=col>&lt;dbl&gt;</th></tr>\n",
       "</thead>\n",
       "<tbody>\n",
       "\t<tr><th scope=row>(Intercept)</th><td>543.7320616</td><td>1</td><td> 98.02122</td><td>8.818105e-42</td></tr>\n",
       "\t<tr><th scope=row>aSNR.fs</th><td> 19.2082633</td><td>1</td><td>960.53712</td><td>1.301138e-05</td></tr>\n",
       "\t<tr><th scope=row>zrho_cond</th><td>  0.2613378</td><td>1</td><td> 97.93235</td><td>6.103532e-01</td></tr>\n",
       "\t<tr><th scope=row>rho01.fs</th><td> 58.4091883</td><td>2</td><td>234.74221</td><td>2.582574e-21</td></tr>\n",
       "\t<tr><th scope=row>aSNR.fs:zrho_cond</th><td>  1.0121957</td><td>1</td><td>957.94208</td><td>3.146314e-01</td></tr>\n",
       "\t<tr><th scope=row>zrho_cond:rho01.fs</th><td> 13.4971417</td><td>2</td><td>233.48274</td><td>2.838415e-06</td></tr>\n",
       "</tbody>\n",
       "</table>\n"
      ],
      "text/latex": [
       "A anova: 6 × 4\n",
       "\\begin{tabular}{r|llll}\n",
       "  & F & Df & Df.res & Pr(>F)\\\\\n",
       "  & <dbl> & <dbl> & <dbl> & <dbl>\\\\\n",
       "\\hline\n",
       "\t(Intercept) & 543.7320616 & 1 &  98.02122 & 8.818105e-42\\\\\n",
       "\taSNR.fs &  19.2082633 & 1 & 960.53712 & 1.301138e-05\\\\\n",
       "\tzrho\\_cond &   0.2613378 & 1 &  97.93235 & 6.103532e-01\\\\\n",
       "\trho01.fs &  58.4091883 & 2 & 234.74221 & 2.582574e-21\\\\\n",
       "\taSNR.fs:zrho\\_cond &   1.0121957 & 1 & 957.94208 & 3.146314e-01\\\\\n",
       "\tzrho\\_cond:rho01.fs &  13.4971417 & 2 & 233.48274 & 2.838415e-06\\\\\n",
       "\\end{tabular}\n"
      ],
      "text/markdown": [
       "\n",
       "A anova: 6 × 4\n",
       "\n",
       "| <!--/--> | F &lt;dbl&gt; | Df &lt;dbl&gt; | Df.res &lt;dbl&gt; | Pr(&gt;F) &lt;dbl&gt; |\n",
       "|---|---|---|---|---|\n",
       "| (Intercept) | 543.7320616 | 1 |  98.02122 | 8.818105e-42 |\n",
       "| aSNR.fs |  19.2082633 | 1 | 960.53712 | 1.301138e-05 |\n",
       "| zrho_cond |   0.2613378 | 1 |  97.93235 | 6.103532e-01 |\n",
       "| rho01.fs |  58.4091883 | 2 | 234.74221 | 2.582574e-21 |\n",
       "| aSNR.fs:zrho_cond |   1.0121957 | 1 | 957.94208 | 3.146314e-01 |\n",
       "| zrho_cond:rho01.fs |  13.4971417 | 2 | 233.48274 | 2.838415e-06 |\n",
       "\n"
      ],
      "text/plain": [
       "                   F           Df Df.res    Pr(>F)      \n",
       "(Intercept)        543.7320616 1   98.02122 8.818105e-42\n",
       "aSNR.fs             19.2082633 1  960.53712 1.301138e-05\n",
       "zrho_cond            0.2613378 1   97.93235 6.103532e-01\n",
       "rho01.fs            58.4091883 2  234.74221 2.582574e-21\n",
       "aSNR.fs:zrho_cond    1.0121957 1  957.94208 3.146314e-01\n",
       "zrho_cond:rho01.fs  13.4971417 2  233.48274 2.838415e-06"
      ]
     },
     "metadata": {},
     "output_type": "display_data"
    }
   ],
   "source": [
    "#let's make sure the full (no corr) model and the reduced give same result (yes)\n",
    "\n",
    "Anova(rt.lm.1ne,test.statistic = \"F\",type=\"III\")\n",
    "cat('Use me:')\n",
    "Anova(rt.lm.3ne,test.statistic = \"F\",type=\"III\")"
   ]
  },
  {
   "cell_type": "code",
   "execution_count": null,
   "id": "aed080df",
   "metadata": {},
   "outputs": [],
   "source": []
  }
 ],
 "metadata": {
  "kernelspec": {
   "display_name": "R",
   "language": "R",
   "name": "ir"
  },
  "language_info": {
   "codemirror_mode": "r",
   "file_extension": ".r",
   "mimetype": "text/x-r-source",
   "name": "R",
   "pygments_lexer": "r",
   "version": "4.3.1"
  }
 },
 "nbformat": 4,
 "nbformat_minor": 5
}
